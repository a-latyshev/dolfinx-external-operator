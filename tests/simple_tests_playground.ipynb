{
 "cells": [
  {
   "cell_type": "code",
   "execution_count": 1,
   "metadata": {},
   "outputs": [],
   "source": [
    "from mpi4py import MPI\n",
    "from petsc4py import PETSc\n",
    "\n",
    "import numpy as np\n",
    "\n",
    "import basix\n",
    "import ufl\n",
    "import ufl.algorithms\n",
    "from dolfinx import fem, mesh\n",
    "from dolfinx_external_operator import FEMExternalOperator, replace_external_operators, evaluate_operands, evaluate_external_operators\n",
    "from ufl import Measure, TestFunction, TrialFunction, derivative, grad, inner\n"
   ]
  },
  {
   "cell_type": "code",
   "execution_count": 2,
   "metadata": {},
   "outputs": [],
   "source": [
    "domain = mesh.create_unit_square(MPI.COMM_WORLD, 2, 2)\n",
    "\n",
    "gdim = domain.geometry.dim\n",
    "V = fem.functionspace(domain, (\"CG\", 1))\n",
    "v = ufl.TestFunction(V)\n",
    "\n",
    "u_hat = ufl.TrialFunction(V)\n",
    "u = fem.Function(V)\n",
    "u.x.array[:] = 2.0  # in order to get non-zero forms after assembling"
   ]
  },
  {
   "cell_type": "code",
   "execution_count": null,
   "metadata": {},
   "outputs": [],
   "source": []
  },
  {
   "cell_type": "code",
   "execution_count": 3,
   "metadata": {},
   "outputs": [],
   "source": [
    "def N_external(u):\n",
    "    return np.reshape(u**2, -1)\n",
    "\n",
    "def dNdu_external(u):\n",
    "    return np.reshape(2 * u, -1)"
   ]
  },
  {
   "cell_type": "code",
   "execution_count": 4,
   "metadata": {},
   "outputs": [],
   "source": [
    "def Ns_external(derivatives):\n",
    "    if derivatives == (0,):\n",
    "        return N_external\n",
    "    elif derivatives == (1,):\n",
    "        return dNdu_external\n",
    "    else:\n",
    "        return NotImplementedError"
   ]
  },
  {
   "cell_type": "code",
   "execution_count": 5,
   "metadata": {},
   "outputs": [],
   "source": [
    "V = fem.functionspace(domain, (\"CG\", 1))\n",
    "v = ufl.TestFunction(V)\n",
    "u_hat = ufl.TrialFunction(V)\n",
    "u = fem.Function(V)\n",
    "\n",
    "quadrature_degree=1\n",
    "Qe = basix.ufl.quadrature_element(domain.topology.cell_name(), degree=quadrature_degree, value_shape=())\n",
    "Q = fem.functionspace(domain, Qe)\n",
    "dx_m = ufl.Measure(\"dx\", domain=domain, metadata={\"quadrature_degree\": quadrature_degree, \"quadrature_scheme\": \"default\"})"
   ]
  },
  {
   "cell_type": "code",
   "execution_count": 6,
   "metadata": {},
   "outputs": [],
   "source": [
    "N = FEMExternalOperator(u, function_space=Q, external_function=None)\n",
    "F = ufl.inner(N, v) * dx_m\n",
    "J = ufl.derivative(F, u, u_hat)\n",
    "F_replaced, F_ex_ops_list = replace_external_operators(F)\n",
    "F_dolfinx = fem.form(F_replaced)"
   ]
  },
  {
   "cell_type": "code",
   "execution_count": 7,
   "metadata": {},
   "outputs": [
    {
     "name": "stdout",
     "output_type": "stream",
     "text": [
      "()\n",
      "()\n",
      "()\n",
      "()\n",
      "()\n",
      "v_1 * f\n",
      "v_1 * f\n",
      "()\n"
     ]
    }
   ],
   "source": [
    "J_expanded = ufl.algorithms.expand_derivatives(J)\n",
    "J_replaced, J_ex_ops_list = replace_external_operators(J_expanded)\n",
    "J_dolfinx = fem.form(J_replaced)"
   ]
  },
  {
   "cell_type": "code",
   "execution_count": 8,
   "metadata": {},
   "outputs": [],
   "source": [
    "quadrature_degree=1\n",
    "Qe = basix.ufl.quadrature_element(domain.topology.cell_name(), degree=quadrature_degree, value_shape=(2,))\n",
    "Q = fem.functionspace(domain, Qe)\n",
    "dx_m = ufl.Measure(\"dx\", domain=domain, metadata={\"quadrature_degree\": quadrature_degree, \"quadrature_scheme\": \"default\"})"
   ]
  },
  {
   "cell_type": "code",
   "execution_count": 9,
   "metadata": {},
   "outputs": [],
   "source": [
    "N = FEMExternalOperator(u, function_space=Q, external_function=None)\n",
    "F = ufl.inner(N, ufl.grad(v)) * dx_m\n",
    "J = ufl.derivative(F, u, u_hat)\n",
    "F_replaced, F_ex_ops_list = replace_external_operators(F)\n",
    "F_dolfinx = fem.form(F_replaced)"
   ]
  },
  {
   "cell_type": "code",
   "execution_count": 10,
   "metadata": {},
   "outputs": [
    {
     "name": "stdout",
     "output_type": "stream",
     "text": [
      "()\n",
      "(2,)\n",
      "(Index(9),)\n",
      "()\n",
      "(Index(9),)\n",
      "{ A | A_{i_{10}} = f[i_{10}] * v_1 }\n",
      "{ A | A_{i_9} = f[i_9] * v_1 }\n",
      "(2,)\n"
     ]
    }
   ],
   "source": [
    "J_expanded = ufl.algorithms.expand_derivatives(J)\n",
    "J_replaced, J_ex_ops_list = replace_external_operators(J_expanded)\n",
    "J_dolfinx = fem.form(J_replaced)"
   ]
  },
  {
   "cell_type": "code",
   "execution_count": 11,
   "metadata": {},
   "outputs": [
    {
     "data": {
      "text/plain": [
       "(2,)"
      ]
     },
     "execution_count": 11,
     "metadata": {},
     "output_type": "execute_result"
    }
   ],
   "source": [
    "N.ref_coefficient.ufl_shape"
   ]
  },
  {
   "cell_type": "code",
   "execution_count": 13,
   "metadata": {},
   "outputs": [
    {
     "data": {
      "text/plain": [
       "(2,)"
      ]
     },
     "execution_count": 13,
     "metadata": {},
     "output_type": "execute_result"
    }
   ],
   "source": [
    "J_ex_ops_list[0].ufl_shape"
   ]
  },
  {
   "cell_type": "code",
   "execution_count": 37,
   "metadata": {},
   "outputs": [],
   "source": [
    "V = fem.functionspace(domain, (\"CG\", 1))\n",
    "v = ufl.TestFunction(V)\n",
    "u_hat = ufl.TrialFunction(V)\n",
    "u = fem.Function(V)\n",
    "\n",
    "quadrature_degree=1\n",
    "Qe = basix.ufl.quadrature_element(domain.topology.cell_name(), degree=quadrature_degree, value_shape=(2,))\n",
    "Q = fem.functionspace(domain, Qe)\n",
    "dx_m = ufl.Measure(\"dx\", domain=domain, metadata={\"quadrature_degree\": quadrature_degree, \"quadrature_scheme\": \"default\"})"
   ]
  },
  {
   "cell_type": "code",
   "execution_count": 38,
   "metadata": {},
   "outputs": [],
   "source": [
    "# quadrature_points = basix.make_quadrature(basix.CellType.triangle, quadrature_degree, basix.QuadratureType.Default)\n",
    "# num_cells = domain.topology.index_map(domain.topology.dim).size_local\n",
    "# num_gauss_points = quadrature_points[0].shape[0]"
   ]
  },
  {
   "cell_type": "code",
   "execution_count": 39,
   "metadata": {},
   "outputs": [],
   "source": [
    "sigma = ufl.grad(u)\n",
    "N = FEMExternalOperator(sigma, function_space=Q, external_function=None)"
   ]
  },
  {
   "cell_type": "code",
   "execution_count": 40,
   "metadata": {},
   "outputs": [],
   "source": [
    "F = ufl.inner(N, ufl.grad(v)) * dx_m\n",
    "J = ufl.derivative(F, u, u_hat)"
   ]
  },
  {
   "cell_type": "code",
   "execution_count": 41,
   "metadata": {},
   "outputs": [],
   "source": [
    "F_replaced, F_ex_ops_list = replace_external_operators(F)\n",
    "F_dolfinx = fem.form(F_replaced)"
   ]
  },
  {
   "cell_type": "code",
   "execution_count": 42,
   "metadata": {},
   "outputs": [
    {
     "data": {
      "text/plain": [
       "(Coargument(DualSpace(Mesh(blocked element (Basix element (P, triangle, 1, gll_warped, unset, False), (2,)), 1), blocked element (QuadratureElement(triangle, array([[0.33333333, 0.33333333]]), array([0.5]), IdentityPullback()), (2,))), 0, None),)"
      ]
     },
     "execution_count": 42,
     "metadata": {},
     "output_type": "execute_result"
    }
   ],
   "source": [
    "N.arguments()"
   ]
  },
  {
   "cell_type": "code",
   "execution_count": 43,
   "metadata": {},
   "outputs": [
    {
     "name": "stdout",
     "output_type": "stream",
     "text": [
      "(2,)\n",
      "(2, 2)\n",
      "(Index(23), Index(24))\n",
      "(Index(24),)\n",
      "(Index(23),)\n",
      "{ A | A_{i_{23}} = sum_{i_{24}} f[i_{23}, i_{24}] * (grad(v_1))[i_{24}]  }\n",
      "(2,)\n"
     ]
    }
   ],
   "source": [
    "J_expanded = ufl.algorithms.expand_derivatives(J)\n",
    "J_replaced, J_ex_ops_list = replace_external_operators(J_expanded)\n",
    "J_dolfinx = fem.form(J_replaced)"
   ]
  },
  {
   "cell_type": "code",
   "execution_count": 15,
   "metadata": {},
   "outputs": [
    {
     "data": {
      "text/plain": [
       "Coefficient(FunctionSpace(Mesh(blocked element (Basix element (P, triangle, 1, gll_warped, unset, False), (2,)), 0), Basix element (P, triangle, 1, gll_warped, unset, False)), 1)"
      ]
     },
     "execution_count": 15,
     "metadata": {},
     "output_type": "execute_result"
    }
   ],
   "source": [
    "N.ufl_operands[0]"
   ]
  },
  {
   "cell_type": "code",
   "execution_count": 16,
   "metadata": {},
   "outputs": [
    {
     "data": {
      "text/plain": [
       "<dolfinx.mesh.Mesh at 0xffff6a8eec50>"
      ]
     },
     "execution_count": 16,
     "metadata": {},
     "output_type": "execute_result"
    }
   ],
   "source": [
    "V.mesh"
   ]
  },
  {
   "cell_type": "code",
   "execution_count": 18,
   "metadata": {},
   "outputs": [
    {
     "data": {
      "text/plain": [
       "<dolfinx.mesh.Mesh at 0xffff6a8eec50>"
      ]
     },
     "execution_count": 18,
     "metadata": {},
     "output_type": "execute_result"
    }
   ],
   "source": [
    "N.ref_function_space.mesh"
   ]
  },
  {
   "cell_type": "code",
   "execution_count": 14,
   "metadata": {},
   "outputs": [],
   "source": [
    "def f(i,j):\n",
    "    a = np.ones((2,2))\n",
    "    print(a[i,j])"
   ]
  },
  {
   "cell_type": "code",
   "execution_count": 15,
   "metadata": {},
   "outputs": [
    {
     "name": "stdout",
     "output_type": "stream",
     "text": [
      "1.0\n"
     ]
    }
   ],
   "source": [
    "f(*tup)"
   ]
  },
  {
   "cell_type": "code",
   "execution_count": 25,
   "metadata": {},
   "outputs": [],
   "source": [
    "var = np.ones((10))\n",
    "var2 = var"
   ]
  },
  {
   "cell_type": "code",
   "execution_count": 31,
   "metadata": {},
   "outputs": [],
   "source": [
    "var = np.full((10),2)"
   ]
  },
  {
   "cell_type": "code",
   "execution_count": 32,
   "metadata": {},
   "outputs": [
    {
     "data": {
      "text/plain": [
       "array([2., 2., 2., 2., 2., 2., 2., 2., 2., 2.])"
      ]
     },
     "execution_count": 32,
     "metadata": {},
     "output_type": "execute_result"
    }
   ],
   "source": [
    "var2"
   ]
  },
  {
   "cell_type": "code",
   "execution_count": 24,
   "metadata": {},
   "outputs": [
    {
     "data": {
      "text/plain": [
       "'[1. 1. 1. 1. 1. 1. 1. 1. 1. 1.]'"
      ]
     },
     "execution_count": 24,
     "metadata": {},
     "output_type": "execute_result"
    }
   ],
   "source": [
    "var.__"
   ]
  },
  {
   "cell_type": "code",
   "execution_count": 20,
   "metadata": {},
   "outputs": [
    {
     "data": {
      "text/plain": [
       "ufl.differentiation.Grad"
      ]
     },
     "execution_count": 20,
     "metadata": {},
     "output_type": "execute_result"
    }
   ],
   "source": [
    "type(ufl.grad(u))"
   ]
  },
  {
   "cell_type": "code",
   "execution_count": 21,
   "metadata": {},
   "outputs": [
    {
     "data": {
      "text/plain": [
       "dolfinx.fem.function.Function"
      ]
     },
     "execution_count": 21,
     "metadata": {},
     "output_type": "execute_result"
    }
   ],
   "source": [
    "type(u)"
   ]
  },
  {
   "cell_type": "code",
   "execution_count": 19,
   "metadata": {},
   "outputs": [
    {
     "data": {
      "text/plain": [
       "FunctionSpace(Mesh(blocked element (Basix element (P, triangle, 1, gll_warped, unset, False), (2,)), 0), Basix element (P, triangle, 1, gll_warped, unset, False))"
      ]
     },
     "execution_count": 19,
     "metadata": {},
     "output_type": "execute_result"
    }
   ],
   "source": [
    "u.function_space"
   ]
  },
  {
   "cell_type": "code",
   "execution_count": 16,
   "metadata": {},
   "outputs": [
    {
     "name": "stdout",
     "output_type": "stream",
     "text": [
      "Action({ conj((sum_{i_8} (grad(v_0))[i_8] * (conj((v_1[i_8]))) )) } * dx(<Mesh #0>[everywhere], {'quadrature_degree': 1, 'quadrature_scheme': 'default'}), ∂e(grad(f); grad(v_1), v_0)/∂o1)\n"
     ]
    }
   ],
   "source": [
    "print(J_expanded)"
   ]
  },
  {
   "cell_type": "code",
   "execution_count": 17,
   "metadata": {},
   "outputs": [
    {
     "name": "stdout",
     "output_type": "stream",
     "text": [
      "{ conj((sum_{i_8} (grad(v_0))[i_8] * (conj((({ A | A_{i_9} = sum_{i_{10}} f[i_9, i_{10}] * (grad(v_1))[i_{10}]  })[i_8]))) )) } * dx(<Mesh #0>[everywhere], {'quadrature_degree': 1, 'quadrature_scheme': 'default'})\n"
     ]
    }
   ],
   "source": [
    "print(J_replaced)"
   ]
  },
  {
   "cell_type": "code",
   "execution_count": 18,
   "metadata": {},
   "outputs": [
    {
     "name": "stdout",
     "output_type": "stream",
     "text": [
      "e(grad(f); v_0)\n"
     ]
    }
   ],
   "source": [
    "print(N)"
   ]
  },
  {
   "cell_type": "code",
   "execution_count": 19,
   "metadata": {},
   "outputs": [],
   "source": [
    "dN = J_ex_ops_list[0]"
   ]
  },
  {
   "cell_type": "code",
   "execution_count": 20,
   "metadata": {},
   "outputs": [
    {
     "name": "stdout",
     "output_type": "stream",
     "text": [
      "∂e(grad(f); grad(v_1), v_0)/∂o1\n"
     ]
    }
   ],
   "source": [
    "print(dN)"
   ]
  },
  {
   "cell_type": "code",
   "execution_count": 21,
   "metadata": {},
   "outputs": [
    {
     "data": {
      "text/plain": [
       "(2,)"
      ]
     },
     "execution_count": 21,
     "metadata": {},
     "output_type": "execute_result"
    }
   ],
   "source": [
    "dN.ufl_shape"
   ]
  },
  {
   "cell_type": "code",
   "execution_count": 22,
   "metadata": {},
   "outputs": [
    {
     "data": {
      "text/plain": [
       "(8, 1, 2)"
      ]
     },
     "execution_count": 22,
     "metadata": {},
     "output_type": "execute_result"
    }
   ],
   "source": [
    "N.ref_coefficient.x.array.reshape((num_cells, num_gauss_points, 2)).shape\n"
   ]
  },
  {
   "cell_type": "code",
   "execution_count": 23,
   "metadata": {},
   "outputs": [
    {
     "data": {
      "text/plain": [
       "(2,)"
      ]
     },
     "execution_count": 23,
     "metadata": {},
     "output_type": "execute_result"
    }
   ],
   "source": [
    "dN.ufl_shape"
   ]
  },
  {
   "cell_type": "code",
   "execution_count": 24,
   "metadata": {},
   "outputs": [
    {
     "data": {
      "text/plain": [
       "(8, 1, 2, 2)"
      ]
     },
     "execution_count": 24,
     "metadata": {},
     "output_type": "execute_result"
    }
   ],
   "source": [
    "dN.ref_coefficient.x.array.reshape((num_cells, num_gauss_points, 2, 2)).shape\n"
   ]
  },
  {
   "cell_type": "code",
   "execution_count": 25,
   "metadata": {},
   "outputs": [
    {
     "data": {
      "text/plain": [
       "{Grad(Coefficient(FunctionSpace(Mesh(blocked element (Basix element (P, triangle, 1, gll_warped, unset, False), (2,)), 0), Basix element (P, triangle, 1, gll_warped, unset, False)), 1)): array([[0., 0.],\n",
       "        [0., 0.],\n",
       "        [0., 0.],\n",
       "        [0., 0.],\n",
       "        [0., 0.],\n",
       "        [0., 0.],\n",
       "        [0., 0.],\n",
       "        [0., 0.]])}"
      ]
     },
     "execution_count": 25,
     "metadata": {},
     "output_type": "execute_result"
    }
   ],
   "source": [
    "evaluated_operands = evaluate_operands(F_ex_ops_list)\n",
    "evaluated_operands"
   ]
  },
  {
   "cell_type": "code",
   "execution_count": 26,
   "metadata": {},
   "outputs": [],
   "source": [
    "Qe = basix.ufl.quadrature_element(domain.topology.cell_name(), degree=quadrature_degree, value_shape=(2,2))\n",
    "Q = fem.functionspace(domain, Qe)\n",
    "dx_m = ufl.Measure(\"dx\", domain=domain, metadata={\"quadrature_degree\": quadrature_degree, \"quadrature_scheme\": \"default\"})\n",
    "\n",
    "sigma = ufl.grad(u)\n",
    "N = FEMExternalOperator(sigma, function_space=Q, external_function=None)\n",
    "\n",
    "F = ufl.inner(N, ufl.grad(ufl.grad(v))) * dx_m\n",
    "J = ufl.derivative(F, u, u_hat)"
   ]
  },
  {
   "cell_type": "code",
   "execution_count": 27,
   "metadata": {},
   "outputs": [],
   "source": [
    "F_replaced, F_ex_ops_list = replace_external_operators(F)\n",
    "F_dolfinx = fem.form(F_replaced)\n",
    "J_expanded = ufl.algorithms.expand_derivatives(J)\n",
    "# J_dolfinx = fem.form(J_replaced)"
   ]
  },
  {
   "cell_type": "code",
   "execution_count": 28,
   "metadata": {},
   "outputs": [
    {
     "name": "stdout",
     "output_type": "stream",
     "text": [
      "Action({ conj((sum_{i_{12}} sum_{i_{11}} (grad(grad(v_0)))[i_{11}, i_{12}] * (conj((v_1[i_{11}, i_{12}])))  )) } * dx(<Mesh #0>[everywhere], {'quadrature_degree': 1, 'quadrature_scheme': 'default'}), ∂e(grad(f); grad(v_1), v_0)/∂o1)\n"
     ]
    }
   ],
   "source": [
    "print(J_expanded)"
   ]
  },
  {
   "cell_type": "code",
   "execution_count": 29,
   "metadata": {},
   "outputs": [
    {
     "name": "stdout",
     "output_type": "stream",
     "text": [
      "(2,)\n",
      "(2, 2, 2)\n",
      "(Index(13), Index(14), Index(15))\n",
      "(Index(15),)\n",
      "(Index(13), Index(14))\n",
      "{ A | A_{i_{13}, i_{14}} = sum_{i_{15}} f[i_{13}, i_{14}, i_{15}] * (grad(v_1))[i_{15}]  }\n",
      "(2, 2)\n"
     ]
    }
   ],
   "source": [
    "J_replaced, J_ex_ops_list = replace_external_operators(J_expanded)\n"
   ]
  },
  {
   "cell_type": "code",
   "execution_count": 31,
   "metadata": {},
   "outputs": [],
   "source": [
    "Qe = basix.ufl.quadrature_element(domain.topology.cell_name(), degree=quadrature_degree, value_shape=(2,2))\n",
    "Q = fem.functionspace(domain, Qe)\n",
    "dx_m = ufl.Measure(\"dx\", domain=domain, metadata={\"quadrature_degree\": quadrature_degree, \"quadrature_scheme\": \"default\"})\n",
    "\n",
    "N = FEMExternalOperator(ufl.grad(ufl.grad(u)), function_space=Q, external_function=None)\n",
    "\n",
    "F = ufl.inner(N, ufl.grad(ufl.grad(v))) * dx_m\n",
    "J = ufl.derivative(F, u, u_hat)"
   ]
  },
  {
   "cell_type": "code",
   "execution_count": 32,
   "metadata": {},
   "outputs": [],
   "source": [
    "F_replaced, F_ex_ops_list = replace_external_operators(F)\n",
    "F_dolfinx = fem.form(F_replaced)\n",
    "J_expanded = ufl.algorithms.expand_derivatives(J)\n",
    "# J_dolfinx = fem.form(J_replaced)"
   ]
  },
  {
   "cell_type": "code",
   "execution_count": 33,
   "metadata": {},
   "outputs": [
    {
     "name": "stdout",
     "output_type": "stream",
     "text": [
      "(2, 2)\n",
      "(2, 2, 2, 2)\n",
      "(Index(18), Index(19), Index(20), Index(21))\n",
      "(Index(20), Index(21))\n",
      "(Index(18), Index(19))\n",
      "{ A | A_{i_{18}, i_{19}} = sum_{i_{21}} sum_{i_{20}} f[i_{18}, i_{19}, i_{20}, i_{21}] * (grad(grad(v_1)))[i_{20}, i_{21}]   }\n",
      "(2, 2)\n"
     ]
    }
   ],
   "source": [
    "J_replaced, J_ex_ops_list = replace_external_operators(J_expanded)\n"
   ]
  },
  {
   "cell_type": "code",
   "execution_count": null,
   "metadata": {},
   "outputs": [],
   "source": []
  }
 ],
 "metadata": {
  "kernelspec": {
   "display_name": "Python 3",
   "language": "python",
   "name": "python3"
  },
  "language_info": {
   "codemirror_mode": {
    "name": "ipython",
    "version": 3
   },
   "file_extension": ".py",
   "mimetype": "text/x-python",
   "name": "python",
   "nbconvert_exporter": "python",
   "pygments_lexer": "ipython3",
   "version": "3.10.12"
  }
 },
 "nbformat": 4,
 "nbformat_minor": 2
}
