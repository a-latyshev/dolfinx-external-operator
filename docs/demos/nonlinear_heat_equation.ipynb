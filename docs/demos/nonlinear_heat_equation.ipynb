{
 "cells": [
  {
   "cell_type": "markdown",
   "metadata": {},
   "source": [
    "$\\newcommand\\ul[1]{\\underline{#1}}$\n",
    "\n",
    "# Nonlinear heat equation\n",
    "\n",
    "In this notebook, we implement a numerical solution of a simple example of a nonlinear heat equation using an external operator. The problem can be solved using both pure UFL formulation and the application of an external operator. This gives an advantage///..\n",
    "\n",
    "Denoting the temperature field through $T$ we consider the following system \n",
    "$$\n",
    "    \\begin{align*}\n",
    "        \\Omega : \\quad & \\nabla \\cdot (K \\nabla T) = 0 \\\\\n",
    "        \\partial\\Omega_D : \\quad & T(\\ul{x}) = 0 \\\\\n",
    "        \\Omega : \\quad & T(\\ul{x},0) = x + 2y\n",
    "    \\end{align*}\n",
    "$$\n",
    "where $K(T) = \\frac{1}{a + b T}$ is a nonlinear thermal conductivity, $a$ and $b$ are some constants.\n",
    "\n",
    "Let $V = H^1_0(\\Omega)$ be the functional space of admissible temperature fields then in a variational setting the problem can be written as follows.\n",
    "\n",
    "Find $T \\in V$ such that\n",
    "$$\n",
    "    \\begin{equation}\n",
    "        F(T; \\tilde{T}) = -\\int\\frac{1}{a + b T}\\underline{\\nabla T} . \\underline{\\nabla \\tilde{T}} dx = \\int\\underline{j}(T,\\underline{\\sigma}(T)) . \\underline{\\nabla \\tilde{T}} dx = 0, \\quad \\forall T \\in V,\n",
    "    \\end{equation}\n",
    "$$\n",
    "where $\\ul{j} = - K(T) \\underline{\\sigma}(T) = \\frac{1}{a + bT}\\underline{\\sigma}(T)$ is a nonlinear heat flux and $\\underline{\\sigma}(T)$ is equal to the gradient $\\underline{\\nabla T}$ and introduced for simplicity.\n",
    "\n",
    "In order to solve the nonlinear equation $(1)$ we apply the Newton method and calculate the Gateau derivative of $F$ with respect to operand $T$ in the direction $\\bar{T} \\in V$ as following: \n",
    "$$\n",
    "    \\begin{align*}\n",
    "        & J(T;\\bar{T},\\tilde{T}) = \\frac{d F}{d T}(\\ul{j}(T,\\ul{\\sigma}(T));\\bar{T}, \\tilde{T}) = \\int\\frac{d\\ul{j}}{dT}(T,\\ul{\\sigma}(T);\\bar{T}) \\ul{\\nabla \\tilde{T}} dx, \n",
    "    \\end{align*}\n",
    "$$\n",
    "where through $d \\cdot / dT$ we denote the Gateau derivative with respect to operand $T$ in the direction $\\bar{T} \\in V$. \n",
    "\n",
    "In this example, we treat the heat flux $\\ul{j}$ as a function of two operands $T$ and $\\ul{\\sigma}(T) = \\ul{\\nabla T}$. In this regard, by applying the chain rule, let us write out the explicit expression of the Gateau derivative of $\\ul{j}$ here below\n",
    "$$\n",
    "    \\begin{align*}\n",
    "        & \\frac{d\\ul{j}}{dT}(T,\\ul{\\sigma}(T);\\bar{T}) = \\frac{\\partial\\ul{j}}{\\partial T} + \\frac{\\partial\\ul{j}}{\\partial\\ul{\\sigma}}\\frac{\\partial\\ul{\\sigma}}{\\partial T} = -\\ul{\\sigma}(T)(-bK^2(T))\\bar{T} - K(T)\\ul{\\ul{I}}:\\nabla\\bar{T}.\n",
    "    \\end{align*}\n",
    "$$ \n",
    "\n",
    "In our implementation, the heat flux $\\ul{j}$ acts like an external operator and its behaviour as well as the behaviour of its derivatives, will be defined in an external function.\n",
    "\n",
    "In general, the same function can be presented in numerous variations by selecting different operands as sub-expressions of this function. In our case, for example, we could have presented the heat flux $\\ul{j}$ as a function of $K(T)$ and $\\sigma(T)$ operands, but this decision would have led to more midterms due to the chain rule and therefore to more computation costs. Thus, it is important to choose wisely the operands of the external operators, which you want to use.\n",
    "\n",
    "\n",
    "In this regard, the linear form $F$ has one operand, the heat flux $\\ul{j}(T)$, and one argument $\\tilde{T}$:\n",
    "$$\n",
    "    F(T; \\tilde{T}) = F(\\ul{j}(T,\\ul{\\sigma}(T)); \\tilde{T}).\n",
    "$$\n",
    "\n",
    "where $\\partial \\cdot / \\partial T$ is a gateau derivative.\n",
    "\n",
    "Can we say that a Gateau derivative can be full or partial?"
   ]
  },
  {
   "cell_type": "code",
   "execution_count": null,
   "metadata": {},
   "outputs": [],
   "source": []
  },
  {
   "cell_type": "code",
   "execution_count": 1,
   "metadata": {},
   "outputs": [],
   "source": [
    "import numpy as np\n",
    "\n",
    "import numba\n",
    "\n",
    "from jax import config\n",
    "config.update(\"jax_enable_x64\", True) #replace by JAX_ENABLE_X64=True\n",
    "from jax import jit, jacrev, vmap\n",
    "import jax.numpy as jnp\n",
    "\n",
    "import basix\n",
    "import ufl\n",
    "from dolfinx import fem, mesh, common\n",
    "import dolfinx.fem.petsc # there is an error without it, why?\n",
    "\n",
    "\n",
    "from mpi4py import MPI\n",
    "from petsc4py import PETSc\n",
    "\n",
    "import sys\n",
    "sys.path.append(\"..\")\n",
    "import external_operator as ex_op_env\n",
    "\n",
    "import solvers"
   ]
  },
  {
   "cell_type": "markdown",
   "metadata": {},
   "source": [
    "<div hidden>\n",
    "$\\newcommand\\ul[1]{\\underline{#1}}$\n",
    "\\vskip-\\parskip\n",
    "\\vskip-\\baselineskip\n",
    "</div>"
   ]
  },
  {
   "cell_type": "code",
   "execution_count": 2,
   "metadata": {},
   "outputs": [],
   "source": [
    "nx = 5\n",
    "\n",
    "domain = mesh.create_unit_square(MPI.COMM_WORLD, nx, nx)\n",
    "quadrature_degree = 2\n",
    "dx = ufl.Measure(\"dx\", metadata={\n",
    "                 \"quadrature_scheme\": \"default\", \"quadrature_degree\": quadrature_degree})"
   ]
  },
  {
   "cell_type": "code",
   "execution_count": 3,
   "metadata": {},
   "outputs": [],
   "source": [
    "gdim = domain.geometry.dim\n",
    "V = fem.functionspace(domain, (\"CG\", 1, ()))\n",
    "T_bar = ufl.TrialFunction(V)\n",
    "T_tilde = ufl.TestFunction(V)\n",
    "\n",
    "def non_zero_guess(x):\n",
    "    return x[0, :] + 2.0*x[1, :]\n",
    "\n",
    "T = fem.Function(V, name=\"T\")\n",
    "T_n = fem.Function(V, name=\"T_n\")\n",
    "dT = dolfinx.fem.Function(V, name=\"dT\")\n",
    "\n",
    "T.interpolate(non_zero_guess)\n",
    "T_n.interpolate(non_zero_guess)\n",
    "\n",
    "Qe = basix.ufl.quadrature_element(domain.topology.cell_name(), degree=quadrature_degree, value_shape=(2,))\n",
    "Q = dolfinx.fem.functionspace(domain, Qe)"
   ]
  },
  {
   "cell_type": "code",
   "execution_count": 4,
   "metadata": {},
   "outputs": [],
   "source": [
    "def on_boundary(x):\n",
    "    return np.isclose(x[0], 0)\n",
    "boundary_dofs = fem.locate_dofs_geometrical(V, on_boundary)\n",
    "bc = fem.dirichletbc(PETSc.ScalarType(0), boundary_dofs, V)"
   ]
  },
  {
   "cell_type": "markdown",
   "metadata": {},
   "source": [
    "## Pure UFL implementation"
   ]
  },
  {
   "cell_type": "code",
   "execution_count": 5,
   "metadata": {},
   "outputs": [],
   "source": [
    "sigma = ufl.grad(T)\n",
    "A = fem.Constant(domain, 1.0)\n",
    "B = fem.Constant(domain, 1.0)\n",
    "K = 1.0/(A + B*T)\n",
    "j = -K*sigma\n",
    "# dt = 0.001\n",
    "# F = T * T_tilde * dx - dt * ufl.inner(j, ufl.grad(T_tilde))*dx - T_n * T_tilde * dx\n",
    "F = ufl.inner(j, ufl.grad(T_tilde))*dx\n",
    "J = ufl.derivative(F, T, T_bar)"
   ]
  },
  {
   "cell_type": "code",
   "execution_count": 6,
   "metadata": {},
   "outputs": [
    {
     "data": {
      "text/plain": [
       "0.591756341084453"
      ]
     },
     "execution_count": 6,
     "metadata": {},
     "output_type": "execute_result"
    }
   ],
   "source": [
    "tol, n_iter_max = 1e-3, 500\n",
    "n_iter = 0\n",
    "\n",
    "pure_ufl_problem = solvers.LinearProblem(J, -F, T, bcs=[bc])\n",
    "pure_ufl_problem.assemble_vector()\n",
    "\n",
    "norm_residue_0 = pure_ufl_problem.b.norm()\n",
    "norm_residue = norm_residue_0\n",
    "norm_residue_0"
   ]
  },
  {
   "cell_type": "code",
   "execution_count": 7,
   "metadata": {},
   "outputs": [],
   "source": [
    "dT_values_pure_ufl = np.zeros((10, T.x.array.shape[0]))"
   ]
  },
  {
   "cell_type": "code",
   "execution_count": 8,
   "metadata": {},
   "outputs": [
    {
     "name": "stdout",
     "output_type": "stream",
     "text": [
      "\tResidue: 0.27294927509994893, Iteration #1\n",
      "\n",
      "\tResidue: 0.057944062238705685, Iteration #2\n",
      "\n",
      "\tResidue: 0.0022261060269498927, Iteration #3\n",
      "\n",
      "\tResidue: 2.2566792488152625e-06, Iteration #4\n",
      "\n",
      "rank#0: Total time: 0.005443882000008671 s\n"
     ]
    }
   ],
   "source": [
    "start = MPI.Wtime()\n",
    "\n",
    "while norm_residue/norm_residue_0 > tol and n_iter < n_iter_max:\n",
    "\n",
    "    pure_ufl_problem.assemble_matrix()\n",
    "\n",
    "    pure_ufl_problem.solve(dT)\n",
    "\n",
    "    T.vector.axpy(1, dT.vector)\n",
    "    T.x.scatter_forward()\n",
    "    dT_values_pure_ufl[n_iter][:] = dT.x.array[:]\n",
    "    \n",
    "    pure_ufl_problem.assemble_vector()\n",
    "    norm_residue = pure_ufl_problem.b.norm() \n",
    "\n",
    "    n_iter += 1\n",
    "    print(f\"\\tResidue: {norm_residue}, Iteration #{n_iter}\\n\")\n",
    "\n",
    "end = MPI.Wtime()\n",
    "\n",
    "total_time_pure_ufl = end - start\n",
    "print(f'rank#{MPI.COMM_WORLD.rank}: Total time: {total_time_pure_ufl} s')"
   ]
  },
  {
   "cell_type": "markdown",
   "metadata": {},
   "source": [
    "## ExternalOperator approach"
   ]
  },
  {
   "cell_type": "code",
   "execution_count": 9,
   "metadata": {},
   "outputs": [],
   "source": [
    "A = 1.0\n",
    "B = 1.0\n",
    "\n",
    "quadrature_points = basix.make_quadrature(basix.CellType.triangle, quadrature_degree, basix.QuadratureType.Default)\n",
    "num_cells = domain.topology.index_map(domain.topology.dim).size_local\n",
    "num_gauss_points = quadrature_points[0].shape[0]\n",
    "I_ = np.eye(2).flatten()"
   ]
  },
  {
   "cell_type": "code",
   "execution_count": 10,
   "metadata": {},
   "outputs": [
    {
     "data": {
      "text/plain": [
       "50"
      ]
     },
     "execution_count": 10,
     "metadata": {},
     "output_type": "execute_result"
    }
   ],
   "source": [
    "num_cells"
   ]
  },
  {
   "cell_type": "code",
   "execution_count": 11,
   "metadata": {},
   "outputs": [
    {
     "data": {
      "text/plain": [
       "3"
      ]
     },
     "execution_count": 11,
     "metadata": {},
     "output_type": "execute_result"
    }
   ],
   "source": [
    "num_gauss_points"
   ]
  },
  {
   "cell_type": "code",
   "execution_count": 12,
   "metadata": {},
   "outputs": [],
   "source": [
    "@numba.njit(fastmath=True)\n",
    "def K(T):\n",
    "    return 1.0/(A + B*T)\n",
    "\n",
    "@numba.njit(fastmath=True)\n",
    "def func_j(T, sigma):\n",
    "    # j : scalar x vector -> vector\n",
    "    out = np.zeros_like(sigma)\n",
    "    for i in range(0, num_cells):\n",
    "        for j in range(0, num_gauss_points):\n",
    "            T_ = T[i, 1*j:j + 1]\n",
    "            sigma_ = sigma[i, 2*j:2*j + 2]\n",
    "            out[i, 2*j:2*j + 2] = -K(T_)*sigma_\n",
    "    return out.reshape(-1)\n",
    "\n",
    "@numba.njit(fastmath=True)\n",
    "def func_djdT(T, sigma):\n",
    "    # djdT : scalar x vector -> vector\n",
    "    # out = np.empty_like(sigma)\n",
    "    out = np.empty((num_cells, num_gauss_points * 2))\n",
    "\n",
    "    for i in range(0, num_cells):\n",
    "        for j in range(0, num_gauss_points):\n",
    "            T_ = T[i, 1*j:j + 1]\n",
    "            sigma_ = sigma[i, 2*j:2*j + 2]\n",
    "            out[i, 2*j:2*j + 2] = B*K(T_)**2*sigma_\n",
    "\n",
    "    return out.reshape(-1)\n",
    "\n",
    "@numba.njit(fastmath=True)\n",
    "def func_djdsigma(T, sigma):\n",
    "    # djdsigma : scalar x vector -> tensor\n",
    "    out = np.empty((num_cells, num_gauss_points * 4))\n",
    "    for i in range(0, num_cells):\n",
    "        for j in range(0, num_gauss_points):\n",
    "            T_ = T[i, 1*j: j + 1]\n",
    "            out[i, 4*j:4*j + 4] = -K(T_)*I_\n",
    "    return out.reshape(-1)"
   ]
  },
  {
   "cell_type": "code",
   "execution_count": 13,
   "metadata": {},
   "outputs": [],
   "source": [
    "# My Notes\n",
    "# 1. Use jax object inside jax transformations (like jit)\n",
    "# 2. How many jit-s to use?\n",
    "@jit\n",
    "def j_jax(T, sigma):\n",
    "    return -1./(A + B*T) * sigma\n",
    "\n",
    "dj = jit(jacrev(j_jax, argnums=(0,1)))\n",
    "djdT = jit(jacrev(j_jax, argnums=(0)))\n",
    "djdsigma = jit(jacrev(j_jax, argnums=(1)))\n",
    "\n",
    "vj = jit(vmap(j_jax, in_axes=(0, 0))) #vectorization in the way: vj(T=(batch_size, 1), sigma=(batch_size, 2))\n",
    "vdjdT = jit(vmap(djdT, in_axes=(0, 0)))\n",
    "vdjdsigma = jit(vmap(djdsigma, in_axes=(0, 0)))\n",
    "\n",
    "sigma_zero_ = jnp.array([0.0, 0.0])\n",
    "\n",
    "@jit\n",
    "def func_j_jax(T, sigma):\n",
    "    # j : scalar x vector -> vector\n",
    "    T_vectorized = T.reshape((num_cells*num_gauss_points, 1))\n",
    "    sigma_vectorized = sigma.reshape((num_cells*num_gauss_points, 2))\n",
    "    out = vj(T_vectorized, sigma_vectorized)\n",
    "    return out.reshape(-1)\n",
    "\n",
    "@jit\n",
    "def func_djdT_jax(T, sigma):\n",
    "    # djdT : scalar x vector -> vector\n",
    "    T_vectorized = T.reshape((num_cells*num_gauss_points, 1))\n",
    "    sigma_vectorized = sigma.reshape((num_cells*num_gauss_points, 2))\n",
    "    out = vdjdT(T_vectorized, sigma_vectorized)\n",
    "    return out.reshape(-1)\n",
    "\n",
    "@jit\n",
    "def func_djdsigma_jax(T, sigma):\n",
    "    # djdsigma : scalar x vector -> tensor\n",
    "    T_vectorized = T.reshape((num_cells*num_gauss_points, 1))\n",
    "    sigma_vectorized = sigma.reshape((num_cells*num_gauss_points, 2))\n",
    "    out = vdjdsigma(T_vectorized, sigma_vectorized)\n",
    "\n",
    "    return out.reshape(-1)"
   ]
  },
  {
   "cell_type": "code",
   "execution_count": 14,
   "metadata": {},
   "outputs": [],
   "source": [
    "def j_ext(derivatives):\n",
    "    \"\"\"Concrete JAX implementation of external operator and its derivative.\"\"\"\n",
    "    if derivatives == (0, 0):\n",
    "        return func_j_jax\n",
    "    elif derivatives == (1, 0):\n",
    "        return func_djdT_jax\n",
    "    elif derivatives == (0, 1):\n",
    "        return func_djdsigma_jax\n",
    "    else:\n",
    "        return NotImplementedError\n",
    "\n",
    "def j_ext(derivatives):\n",
    "    \"\"\"Concrete numba implementation of external operator and its derivative.\"\"\"\n",
    "    if derivatives == (0, 0):\n",
    "        return func_j\n",
    "    elif derivatives == (1, 0):\n",
    "        return func_djdT\n",
    "    elif derivatives == (0, 1):\n",
    "        return func_djdsigma\n",
    "    else:\n",
    "        return NotImplementedError"
   ]
  },
  {
   "cell_type": "code",
   "execution_count": 15,
   "metadata": {},
   "outputs": [],
   "source": [
    "j = ex_op_env.femExternalOperator(T, sigma, function_space=Q, external_function=j_ext)\n",
    "\n",
    "F_ext = ufl.inner(j, ufl.grad(T_tilde))*dx\n",
    "J_ext = ufl.derivative(F_ext, T, T_bar)"
   ]
  },
  {
   "cell_type": "code",
   "execution_count": 16,
   "metadata": {},
   "outputs": [],
   "source": [
    "F_replaced, F_ex_ops_list = ex_op_env.replace_external_operators(F_ext)\n",
    "F_dolfinx = fem.form(F_replaced)"
   ]
  },
  {
   "cell_type": "code",
   "execution_count": 17,
   "metadata": {},
   "outputs": [],
   "source": [
    "J_expanded = ufl.algorithms.expand_derivatives(J_ext)\n",
    "J_replaced, J_ex_ops_list = ex_op_env.replace_external_operators(J_expanded)\n",
    "J_dolfinx = fem.form(J_replaced)"
   ]
  },
  {
   "cell_type": "code",
   "execution_count": 18,
   "metadata": {},
   "outputs": [],
   "source": [
    "T.interpolate(non_zero_guess)\n",
    "T_n.interpolate(non_zero_guess)"
   ]
  },
  {
   "cell_type": "code",
   "execution_count": 19,
   "metadata": {},
   "outputs": [],
   "source": [
    "timer1 = common.Timer(\"1st numba pass\")\n",
    "start = MPI.Wtime()\n",
    "timer1.start()\n",
    "\n",
    "evaluated_operands = ex_op_env.evaluate_operands(F_ex_ops_list)\n",
    "ex_op_env.evaluate_external_operators(F_ex_ops_list, evaluated_operands)\n",
    "# NOTE: Operands are re-used from previous step.\n",
    "ex_op_env.evaluate_external_operators(J_ex_ops_list, evaluated_operands)\n",
    "\n",
    "end = MPI.Wtime()\n",
    "timer1.stop()\n",
    "time1 = end - start"
   ]
  },
  {
   "cell_type": "code",
   "execution_count": 20,
   "metadata": {},
   "outputs": [],
   "source": [
    "timer2 = common.Timer(\"1st numba pass\")\n",
    "start = MPI.Wtime()\n",
    "timer2.start()\n",
    "\n",
    "evaluated_operands = ex_op_env.evaluate_operands(F_ex_ops_list)\n",
    "ex_op_env.evaluate_external_operators(F_ex_ops_list, evaluated_operands)\n",
    "# NOTE: Operands are re-used from previous step.\n",
    "ex_op_env.evaluate_external_operators(J_ex_ops_list, evaluated_operands)\n",
    "\n",
    "end = MPI.Wtime()\n",
    "timer2.stop()\n",
    "time2 = end - start"
   ]
  },
  {
   "cell_type": "code",
   "execution_count": 21,
   "metadata": {},
   "outputs": [],
   "source": [
    "external_operator_problem = solvers.LinearProblem(J_replaced, -F_replaced, T, bcs=[bc])\n",
    "\n",
    "n_iter = 0\n",
    "\n",
    "external_operator_problem.assemble_vector()\n",
    "\n",
    "norm_residue_0 = external_operator_problem.b.norm()\n",
    "norm_residue = norm_residue_0"
   ]
  },
  {
   "cell_type": "code",
   "execution_count": 22,
   "metadata": {},
   "outputs": [],
   "source": [
    "dT_values_ex_op = np.zeros((10, T.x.array.shape[0]))"
   ]
  },
  {
   "cell_type": "code",
   "execution_count": 23,
   "metadata": {},
   "outputs": [
    {
     "name": "stdout",
     "output_type": "stream",
     "text": [
      "\tResidue: 0.27294927509994893, Iteration #1\n",
      "\n",
      "\tResidue: 0.057944062238705685, Iteration #2\n",
      "\n",
      "\tResidue: 0.0022261060269498927, Iteration #3\n",
      "\n",
      "\tResidue: 2.2566792488152625e-06, Iteration #4\n",
      "\n",
      "rank#0: Total time = 0.013 (s)\n",
      "rank#0: Compilation overhead: 1.895 s\n",
      "rank#0: Total time pure UFL: 0.005 s\n"
     ]
    }
   ],
   "source": [
    "timer3 = common.Timer(\"Solving the problem\")\n",
    "start = MPI.Wtime()\n",
    "timer3.start()\n",
    "\n",
    "while norm_residue/norm_residue_0 > tol and n_iter < n_iter_max:\n",
    "\n",
    "    external_operator_problem.assemble_matrix()\n",
    "\n",
    "    external_operator_problem.solve(dT)\n",
    "\n",
    "    T.vector.axpy(1, dT.vector)\n",
    "    T.x.scatter_forward()\n",
    "    dT_values_ex_op[n_iter][:] = dT.x.array[:]\n",
    "\n",
    "    evaluated_operands = ex_op_env.evaluate_operands(F_ex_ops_list)\n",
    "    ex_op_env.evaluate_external_operators(F_ex_ops_list, evaluated_operands)\n",
    "    # NOTE: Operands are re-used from previous step.\n",
    "    ex_op_env.evaluate_external_operators(J_ex_ops_list, evaluated_operands)\n",
    "\n",
    "    external_operator_problem.assemble_vector()\n",
    "    norm_residue = external_operator_problem.b.norm() \n",
    "\n",
    "    n_iter += 1\n",
    "    print(f\"\\tResidue: {norm_residue}, Iteration #{n_iter}\\n\")\n",
    "\n",
    "end = MPI.Wtime()\n",
    "timer3.stop()\n",
    "\n",
    "total_time_ex_op = end - start\n",
    "\n",
    "print(f'rank#{MPI.COMM_WORLD.rank}: Total time = {total_time_ex_op:.3f} (s)')\n",
    "print(f'rank#{MPI.COMM_WORLD.rank}: Compilation overhead: {time1 - time2:.3f} s')\n",
    "print(f'rank#{MPI.COMM_WORLD.rank}: Total time pure UFL: {total_time_pure_ufl:.3f} s')"
   ]
  },
  {
   "cell_type": "code",
   "execution_count": 24,
   "metadata": {},
   "outputs": [
    {
     "name": "stdout",
     "output_type": "stream",
     "text": [
      "2.710505431213761e-20\n",
      "2.710505431213761e-20\n",
      "2.710505431213761e-20\n",
      "2.710505431213761e-20\n"
     ]
    }
   ],
   "source": [
    "for i in range(4):\n",
    "    print(np.max(np.abs(dT_values_pure_ufl - dT_values_ex_op)))"
   ]
  }
 ],
 "metadata": {
  "kernelspec": {
   "display_name": "Python 3",
   "language": "python",
   "name": "python3"
  },
  "language_info": {
   "codemirror_mode": {
    "name": "ipython",
    "version": 3
   },
   "file_extension": ".py",
   "mimetype": "text/x-python",
   "name": "python",
   "nbconvert_exporter": "python",
   "pygments_lexer": "ipython3",
   "version": "3.10.12"
  },
  "orig_nbformat": 4
 },
 "nbformat": 4,
 "nbformat_minor": 2
}
