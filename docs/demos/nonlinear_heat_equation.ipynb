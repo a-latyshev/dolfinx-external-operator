{
 "cells": [
  {
   "cell_type": "markdown",
   "metadata": {},
   "source": [
    "# Nonlinear heat equation\n",
    "\n",
    "In this notebook, we implement a numerical solution of a nonlinear heat equation using an external operator.\n",
    "\n",
    "## Problem formulation\n",
    "\n",
    "Denoting the temperature field through $T$ and the space variable $\\boldsymbol{x} = (x, y)^T$ we consider the following system on the square domain $\\Omega$:\n",
    "\n",
    "\\begin{align*}\n",
    "\\Omega : \\quad & \\nabla \\cdot (K(T) \\nabla T) = 0 \\\\\n",
    "\\partial\\Omega : \\quad & T(\\boldsymbol{x}) = 0\n",
    "\\end{align*}\n",
    "\n",
    "where $K(T) = \\frac{1}{a + b T}$ is a nonlinear thermal conductivity, $a$ and $b$ are some constants.\n",
    "\n",
    "Let $V = H^1_0(\\Omega)$ be the functional space of admissible temperature fields then in a variational setting the problem can be written as follows.\n",
    "\n",
    "Find $T \\in V$ such that\n",
    "\n",
    "$$\n",
    "    F(j; \\tilde{T}) = -\\int\\frac{1}{a + b T}\\nabla T . \\nabla\\tilde{T} dx = \\int\\boldsymbol{j}(T,\\boldsymbol{\\sigma}(T)) . \\nabla\\tilde{T} dx = 0, \\quad \\forall T \\in V,\n",
    "$$ (eqn:1)\n",
    "\n",
    "where $\\boldsymbol{j} = - K(T) \\boldsymbol{\\sigma}(T) = \\frac{1}{a + bT}\\boldsymbol{\\sigma}(T)$ is a nonlinear heat flux and $\\boldsymbol{\\sigma}(T)$ is equal to the gradient $\\nabla T$ and introduced for simplicity.\n",
    "\n",
    "In order to solve the nonlinear equation {eq}`eqn:1` we apply the Newton method and calculate the Gateau derivative of $F$ with respect to operand $T$ in the direction $\\hat{T} \\in V$ as follows:\n",
    "\n",
    "\n",
    "$$\n",
    "\n",
    "    J(j;\\hat{T},\\tilde{T}) = \\frac{d F}{d T}(\\boldsymbol{j}(T,\\boldsymbol{\\sigma}(T));\\hat{T}, \\tilde{T}) = \\int\\frac{d\\boldsymbol{j}}{dT}(T,\\boldsymbol{\\sigma}(T);\\hat{T}) \\nabla\\tilde{T} dx,\n",
    "\n",
    "$$\n",
    "\n",
    "where through $d \\cdot / dT$ we denote the Gateau derivative with respect to operand $T$ in the direction $\\hat{T} \\in V$.\n",
    "\n",
    "In this example, we treat the heat flux $\\boldsymbol{j}$ as an external operator with two operands $T$ and $\\boldsymbol{\\sigma}(T) = \\nabla T$. In this regard, by applying the chain rule, let us write out the explicit expression of the Gateau derivative of $\\boldsymbol{j}$ here below\n",
    "\n",
    "\n",
    "$$\n",
    "\n",
    "    \\frac{d\\boldsymbol{j}}{dT}(T,\\boldsymbol{\\sigma}(T);\\hat{T}) = \\frac{\\partial\\boldsymbol{j}}{\\partial T} + \\frac{\\partial\\boldsymbol{j}}{\\partial\\boldsymbol{\\sigma}}\\frac{\\partial\\boldsymbol{\\sigma}}{\\partial T} = -\\boldsymbol{\\sigma}(T)(-bK^2(T))\\hat{T} - K(T)\\mathbb{I}:\\nabla\\hat{T},\n",
    "\n",
    "$$\n",
    "where $\\mathbb{I}$ is a second-order identity tensor.\n",
    "\n",
    "Despite the function can be explicitly expressed via UFL, we are going to define the heat flux through `femExternalOperator` object and calls of an external function.\n",
    "\n",
    "```{note}\n",
    "In general, the same function can be presented in numerous variations by selecting different operands as sub-expressions of this function. In our case, for example, we could have presented the heat flux $\\boldsymbol{j}$ as a function of $K(T)$ and $\\sigma(T)$ operands, but this decision would have led to more midterms due to the chain rule and therefore to more computation costs. Thus, it is important to choose wisely the operands of the external operators, which you want to use.\n",
    "```\n",
    "\n",
    "In order to start the numerical algorithm we initialize variable `T` with the following initial guess:\n",
    "\n",
    "\n",
    "$$\n",
    "\n",
    "    T(\\boldsymbol{x}) = x + 2y\n",
    "\n",
    "$$\n",
    "\n",
    "## Defining the external operator\n",
    "\n",
    "TOADD: the framework takes care of trial functions and expressions of it.\n",
    "$$\n"
   ]
  },
  {
   "cell_type": "markdown",
   "metadata": {},
   "source": [
    "## Preamble\n",
    "\n",
    "Importing required packages.\n"
   ]
  },
  {
   "cell_type": "code",
   "execution_count": 1,
   "metadata": {},
   "outputs": [],
   "source": [
    "from mpi4py import MPI\n",
    "from petsc4py import PETSc\n",
    "\n",
    "import basix\n",
    "import ufl\n",
    "from dolfinx import fem, mesh, common\n",
    "import dolfinx.fem.petsc  # there is an error without it, why?\n",
    "\n",
    "import numpy as np\n",
    "import numba\n",
    "import jax\n",
    "# import jax.numpy as jnp\n",
    "from jax import config\n",
    "config.update(\"jax_enable_x64\", True)\n",
    "\n",
    "import sys\n",
    "sys.path.append(\"../../src/dolfinx_ExternalOperator\")\n",
    "import external_operator as ex_op_env\n",
    "import solvers"
   ]
  },
  {
   "cell_type": "markdown",
   "metadata": {},
   "source": [
    "Here we build the mesh, construct the finite functional space and define main variables and zero boundary conditions.\n"
   ]
  },
  {
   "cell_type": "code",
   "execution_count": 2,
   "metadata": {},
   "outputs": [],
   "source": [
    "nx = 5\n",
    "domain = mesh.create_unit_square(MPI.COMM_WORLD, nx, nx)\n",
    "gdim = domain.geometry.dim\n",
    "V = fem.functionspace(domain, (\"CG\", 1, ()))\n",
    "T_tilde = ufl.TestFunction(V)\n",
    "T_hat = ufl.TrialFunction(V)\n",
    "T = fem.Function(V, name=\"T\")\n",
    "sigma = ufl.grad(T)\n",
    "dT = dolfinx.fem.Function(V, name=\"dT\")\n",
    "\n",
    "\n",
    "def non_zero_guess(x):\n",
    "    return x[0, :] + 2.0*x[1, :]\n",
    "\n",
    "T.interpolate(non_zero_guess)\n",
    "\n",
    "A = 1.0\n",
    "B = 1.0\n",
    "\n",
    "def on_boundary(x):\n",
    "    return np.isclose(x[0], 0)\n",
    "\n",
    "\n",
    "boundary_dofs = fem.locate_dofs_geometrical(V, on_boundary)\n",
    "bc = fem.dirichletbc(PETSc.ScalarType(0), boundary_dofs, V)"
   ]
  },
  {
   "cell_type": "markdown",
   "metadata": {},
   "source": [
    "## Defining the external operator\n"
   ]
  },
  {
   "cell_type": "markdown",
   "metadata": {},
   "source": [
    "The external operators must be defined in quadrature finite element space.\n"
   ]
  },
  {
   "cell_type": "code",
   "execution_count": 3,
   "metadata": {},
   "outputs": [],
   "source": [
    "quadrature_degree = 2\n",
    "dx = ufl.Measure(\"dx\", metadata={\n",
    "                 \"quadrature_scheme\": \"default\", \"quadrature_degree\": quadrature_degree})\n",
    "Qe = basix.ufl.quadrature_element(\n",
    "    domain.topology.cell_name(), degree=quadrature_degree, value_shape=(2,))\n",
    "Q = dolfinx.fem.functionspace(domain, Qe)\n",
    "num_cells = domain.topology.index_map(domain.topology.dim).size_local\n",
    "num_gauss_points = Qe.custom_quadrature()[0].shape[0]"
   ]
  },
  {
   "cell_type": "markdown",
   "metadata": {},
   "source": [
    "### Numba\n"
   ]
  },
  {
   "cell_type": "code",
   "execution_count": 4,
   "metadata": {},
   "outputs": [],
   "source": [
    "I = np.eye(2)\n",
    "\n",
    "@numba.njit\n",
    "def K(T):\n",
    "    return 1.0/(A + B*T)\n",
    "\n",
    "@numba.njit\n",
    "def func_j_numba(T, sigma):\n",
    "    # j : scalar x vector -> vector\n",
    "    T_ = T.reshape((num_cells, num_gauss_points))\n",
    "    sigma_ = sigma.reshape((num_cells, num_gauss_points, 2))\n",
    "    j_ = np.empty_like(sigma_)\n",
    "    for i in range(0, num_cells):\n",
    "        for j in range(0, num_gauss_points):\n",
    "            j_[i, j] = -K(T_[i,j]) * sigma_[i,j]\n",
    "    return j_.reshape(-1)\n",
    "\n",
    "\n",
    "@numba.njit\n",
    "def func_djdT_numba(T, sigma):\n",
    "    # djdT : scalar x vector -> vector\n",
    "    T_ = T.reshape((num_cells, num_gauss_points))\n",
    "    sigma_ = sigma.reshape((num_cells, num_gauss_points, 2))\n",
    "    djdT = np.empty_like(sigma_)\n",
    "\n",
    "    for i in range(0, num_cells):\n",
    "        for j in range(0, num_gauss_points):\n",
    "            djdT[i,j] = B * K(T_[i,j])**2 * sigma_[i,j]\n",
    "    return djdT.reshape(-1)\n",
    "\n",
    "\n",
    "@numba.njit\n",
    "def func_djdsigma_numba(T, sigma):\n",
    "    # djdsigma : scalar x vector -> tensor\n",
    "    T_ = T.reshape((num_cells, num_gauss_points))\n",
    "    djdsigma_ = np.empty((num_cells, num_gauss_points, 2, 2),\n",
    "                        dtype=PETSc.ScalarType)\n",
    "\n",
    "    for i in range(0, num_cells):\n",
    "        for j in range(0, num_gauss_points):\n",
    "            djdsigma_[i,j] = -K(T_[i,j])*I\n",
    "    return djdsigma_.reshape(-1)"
   ]
  },
  {
   "cell_type": "code",
   "execution_count": 5,
   "metadata": {},
   "outputs": [],
   "source": [
    "def j_external_numba(derivatives):\n",
    "    \"\"\"Concrete numba implementation of external operator and its derivative.\"\"\"\n",
    "    if derivatives == (0, 0):\n",
    "        return func_j_numba\n",
    "    elif derivatives == (1, 0):\n",
    "        return func_djdT_numba\n",
    "    elif derivatives == (0, 1):\n",
    "        return func_djdsigma_numba\n",
    "    else:\n",
    "        return NotImplementedError"
   ]
  },
  {
   "cell_type": "markdown",
   "metadata": {},
   "source": [
    "### JAX\n"
   ]
  },
  {
   "cell_type": "code",
   "execution_count": 24,
   "metadata": {},
   "outputs": [],
   "source": [
    "@jax.jit\n",
    "def K(T):\n",
    "    return 1.0/(A + B*T)\n",
    "    \n",
    "@jax.jit\n",
    "def j_jax(T, sigma):\n",
    "    return -K(T) * sigma\n",
    "\n",
    "djdT = jax.jit(jax.jacfwd(j_jax, argnums=(0)))\n",
    "djdsigma = jax.jit(jax.jacfwd(j_jax, argnums=(1)))\n",
    "\n",
    "# vectorization: j_vec(T=(batch_size, 1), sigma=(batch_size, 2))\n",
    "j_vec = jax.jit(jax.vmap(j_jax, in_axes=(0, 0))) \n",
    "djdT_vec = jax.jit(jax.vmap(djdT, in_axes=(0, 0)))\n",
    "djdsigma_vec = jax.jit(jax.vmap(djdsigma, in_axes=(0, 0)))\n",
    "\n",
    "@jax.jit\n",
    "def func_j_jax(T, sigma):\n",
    "    T_ = T.reshape((num_cells*num_gauss_points))\n",
    "    sigma_ = sigma.reshape((num_cells*num_gauss_points, 2))\n",
    "    j_ = j_vec(T_, sigma_)\n",
    "    return j_.reshape(-1)\n",
    "\n",
    "@jax.jit\n",
    "def func_djdT_jax(T, sigma):\n",
    "    T_ = T.reshape((num_cells*num_gauss_points))\n",
    "    sigma_ = sigma.reshape((num_cells*num_gauss_points, 2))\n",
    "    j_ = djdT_vec(T_, sigma_)\n",
    "    return j_.reshape(-1)\n",
    "\n",
    "@jax.jit\n",
    "def func_djdsigma_jax(T, sigma):\n",
    "    T_ = T.reshape((num_cells*num_gauss_points))\n",
    "    sigma_ = sigma.reshape((num_cells*num_gauss_points, 2))\n",
    "    j_ = djdsigma_vec(T_, sigma_)\n",
    "    return j_.reshape(-1)\n",
    "\n",
    "# sigma_zero_ = jnp.array([0.0, 0.0])\n",
    "# @jax.jit\n",
    "# def func_j_jax(T, sigma):\n",
    "#     # j : scalar x vector -> vector\n",
    "#     T_vectorized = T.reshape((num_cells*num_gauss_points, 1))\n",
    "#     sigma_vectorized = sigma.reshape((num_cells*num_gauss_points, 2))\n",
    "#     out = vj(T_vectorized, sigma_vectorized)\n",
    "#     return out.reshape(-1)\n",
    "\n",
    "# @jax.jit\n",
    "# def func_djdT_jax(T, sigma):\n",
    "#     # djdT : scalar x vector -> vector\n",
    "#     T_vectorized = T.reshape((num_cells*num_gauss_points, 1))\n",
    "#     sigma_vectorized = sigma.reshape((num_cells*num_gauss_points, 2))\n",
    "#     out = vdjdT(T_vectorized, sigma_vectorized)\n",
    "#     return out.reshape(-1)\n",
    "\n",
    "# @jax.jit\n",
    "# def func_djdsigma_jax(T, sigma):\n",
    "#     # djdsigma : scalar x vector -> tensor\n",
    "#     T_vectorized = T.reshape((num_cells*num_gauss_points, 1))\n",
    "#     sigma_vectorized = sigma.reshape((num_cells*num_gauss_points, 2))\n",
    "#     out = vdjdsigma(T_vectorized, sigma_vectorized)\n",
    "\n",
    "#     return out.reshape(-1)"
   ]
  },
  {
   "cell_type": "code",
   "execution_count": 25,
   "metadata": {},
   "outputs": [],
   "source": [
    "def j_external_jax(derivatives):\n",
    "    \"\"\"Concrete JAX implementation of external operator and its derivative.\"\"\"\n",
    "    if derivatives == (0, 0):\n",
    "        return func_j_jax\n",
    "    elif derivatives == (1, 0):\n",
    "        return func_djdT_jax\n",
    "    elif derivatives == (0, 1):\n",
    "        return func_djdsigma_jax\n",
    "    else:\n",
    "        return NotImplementedError"
   ]
  },
  {
   "cell_type": "markdown",
   "metadata": {},
   "source": [
    "### Solving the problem using external operators"
   ]
  },
  {
   "cell_type": "code",
   "execution_count": 26,
   "metadata": {},
   "outputs": [],
   "source": [
    "j = ex_op_env.femExternalOperator(\n",
    "    T, sigma, function_space=Q, external_function=j_external_jax)\n",
    "\n",
    "F_ext = ufl.inner(j, ufl.grad(T_tilde))*dx\n",
    "J_ext = ufl.derivative(F_ext, T, T_hat)"
   ]
  },
  {
   "cell_type": "code",
   "execution_count": 27,
   "metadata": {},
   "outputs": [],
   "source": [
    "F_replaced, F_ex_ops_list = ex_op_env.replace_external_operators(F_ext)\n",
    "F_dolfinx = fem.form(F_replaced)"
   ]
  },
  {
   "cell_type": "code",
   "execution_count": 28,
   "metadata": {},
   "outputs": [],
   "source": [
    "J_expanded = ufl.algorithms.expand_derivatives(J_ext)\n",
    "J_replaced, J_ex_ops_list = ex_op_env.replace_external_operators(J_expanded)\n",
    "J_dolfinx = fem.form(J_replaced)"
   ]
  },
  {
   "cell_type": "code",
   "execution_count": 29,
   "metadata": {},
   "outputs": [],
   "source": [
    "timer1 = common.Timer(\"1st numba pass\")\n",
    "start = MPI.Wtime()\n",
    "timer1.start()\n",
    "\n",
    "evaluated_operands = ex_op_env.evaluate_operands(F_ex_ops_list)\n",
    "ex_op_env.evaluate_external_operators(F_ex_ops_list, evaluated_operands)\n",
    "# NOTE: Operands are re-used from previous step.\n",
    "ex_op_env.evaluate_external_operators(J_ex_ops_list, evaluated_operands)\n",
    "\n",
    "end = MPI.Wtime()\n",
    "timer1.stop()\n",
    "time1 = end - start"
   ]
  },
  {
   "cell_type": "code",
   "execution_count": 30,
   "metadata": {},
   "outputs": [],
   "source": [
    "timer2 = common.Timer(\"1st numba pass\")\n",
    "start = MPI.Wtime()\n",
    "timer2.start()\n",
    "\n",
    "evaluated_operands = ex_op_env.evaluate_operands(F_ex_ops_list)\n",
    "ex_op_env.evaluate_external_operators(F_ex_ops_list, evaluated_operands)\n",
    "# NOTE: Operands are re-used from previous step.\n",
    "ex_op_env.evaluate_external_operators(J_ex_ops_list, evaluated_operands)\n",
    "\n",
    "end = MPI.Wtime()\n",
    "timer2.stop()\n",
    "time2 = end - start"
   ]
  },
  {
   "cell_type": "code",
   "execution_count": 41,
   "metadata": {},
   "outputs": [
    {
     "data": {
      "text/plain": [
       "dolfinx.fem.petsc.LinearProblem"
      ]
     },
     "execution_count": 41,
     "metadata": {},
     "output_type": "execute_result"
    }
   ],
   "source": [
    "fem.petsc.LinearProble"
   ]
  },
  {
   "cell_type": "code",
   "execution_count": null,
   "metadata": {},
   "outputs": [],
   "source": []
  },
  {
   "cell_type": "code",
   "execution_count": null,
   "metadata": {},
   "outputs": [],
   "source": []
  },
  {
   "cell_type": "code",
   "execution_count": 31,
   "metadata": {},
   "outputs": [],
   "source": [
    "T.interpolate(non_zero_guess)\n",
    "evaluated_operands = ex_op_env.evaluate_operands(F_ex_ops_list)\n",
    "ex_op_env.evaluate_external_operators(F_ex_ops_list, evaluated_operands)\n",
    "ex_op_env.evaluate_external_operators(J_ex_ops_list, evaluated_operands)\n",
    "\n",
    "linear_problem = solvers.LinearProblem(J_replaced, -F_replaced, T, bcs=[bc])\n",
    "\n",
    "linear_problem.assemble_vector()\n",
    "norm_residue_0 = linear_problem.b.norm()\n",
    "norm_residue = norm_residue_0\n",
    "tol, n_iter_max = 1e-3, 500\n",
    "n_iter = 0"
   ]
  },
  {
   "cell_type": "code",
   "execution_count": 32,
   "metadata": {},
   "outputs": [],
   "source": [
    "dT_values_ex_op = []"
   ]
  },
  {
   "cell_type": "code",
   "execution_count": 33,
   "metadata": {},
   "outputs": [
    {
     "name": "stdout",
     "output_type": "stream",
     "text": [
      "Residue0: 0.591756341084453\n",
      "Iteration# 0 Residue: 0.27294927509994893\n",
      "Iteration# 1 Residue: 0.0579440622387055\n",
      "Iteration# 2 Residue: 0.0022261060269500796\n",
      "Iteration# 3 Residue: 2.2566792488308377e-06\n"
     ]
    }
   ],
   "source": [
    "timer3 = common.Timer(\"Solving the problem\")\n",
    "start = MPI.Wtime()\n",
    "timer3.start()\n",
    "\n",
    "print(f\"Residue0: {norm_residue_0}\")\n",
    "while norm_residue/norm_residue_0 > tol and n_iter < n_iter_max:\n",
    "    linear_problem.assemble_matrix()\n",
    "    linear_problem.solve(dT)\n",
    "    T.vector.axpy(1, dT.vector)\n",
    "    T.x.scatter_forward()\n",
    "    dT_values_ex_op.append(dT.x.array)\n",
    "\n",
    "    evaluated_operands = ex_op_env.evaluate_operands(F_ex_ops_list)\n",
    "    ex_op_env.evaluate_external_operators(F_ex_ops_list, evaluated_operands)\n",
    "    # NOTE: Operands are re-used from previous step.\n",
    "    ex_op_env.evaluate_external_operators(J_ex_ops_list, evaluated_operands)\n",
    "\n",
    "    linear_problem.assemble_vector()\n",
    "    norm_residue = linear_problem.b.norm()\n",
    "    print(f\"Iteration# {n_iter} Residue: {norm_residue}\")\n",
    "    n_iter += 1\n",
    "\n",
    "end = MPI.Wtime()\n",
    "timer3.stop()\n",
    "\n",
    "total_time_ex_op = end - start\n",
    "\n",
    "# print(f'rank#{MPI.COMM_WORLD.rank}: Total time = {total_time_ex_op:.3f} (s)')\n",
    "# print(f'rank#{MPI.COMM_WORLD.rank}: Compilation overhead: {time1 - time2:.3f} s')\n",
    "# print(f'rank#{MPI.COMM_WORLD.rank}: Total time pure UFL: {total_time_pure_ufl:.3f} s')"
   ]
  },
  {
   "cell_type": "markdown",
   "metadata": {},
   "source": [
    "## Pure UFL implementation\n"
   ]
  },
  {
   "cell_type": "code",
   "execution_count": 34,
   "metadata": {},
   "outputs": [],
   "source": [
    "K = 1.0/(A + B*T)\n",
    "j = -K*sigma\n",
    "F = ufl.inner(j, ufl.grad(T_tilde))*dx\n",
    "J = ufl.derivative(F, T, T_hat)\n",
    "T.interpolate(non_zero_guess)"
   ]
  },
  {
   "cell_type": "code",
   "execution_count": 35,
   "metadata": {},
   "outputs": [],
   "source": [
    "linear_problem = solvers.LinearProblem(J, -F, T, bcs=[bc])\n",
    "linear_problem.assemble_vector()\n",
    "\n",
    "norm_residue_0 = linear_problem.b.norm()\n",
    "norm_residue = norm_residue_0\n",
    "norm_residue_0\n",
    "\n",
    "n_iter = 0"
   ]
  },
  {
   "cell_type": "code",
   "execution_count": 36,
   "metadata": {},
   "outputs": [],
   "source": [
    "dT_values_pure_ufl = []"
   ]
  },
  {
   "cell_type": "code",
   "execution_count": 37,
   "metadata": {},
   "outputs": [
    {
     "name": "stdout",
     "output_type": "stream",
     "text": [
      "Iteration# 0 Residue: 0.27294927509994893\n",
      "Iteration# 1 Residue: 0.057944062238705685\n",
      "Iteration# 2 Residue: 0.0022261060269498927\n",
      "Iteration# 3 Residue: 2.2566792488152625e-06\n",
      "rank#0: Total time: 0.0018310059999748773 s\n"
     ]
    }
   ],
   "source": [
    "start = MPI.Wtime()\n",
    "\n",
    "while norm_residue/norm_residue_0 > tol and n_iter < n_iter_max:\n",
    "    linear_problem.assemble_matrix()\n",
    "    linear_problem.solve(dT)\n",
    "    T.vector.axpy(1, dT.vector)\n",
    "    T.x.scatter_forward()\n",
    "    dT_values_pure_ufl.append(dT.x.array)\n",
    "\n",
    "    linear_problem.assemble_vector()\n",
    "    norm_residue = linear_problem.b.norm()\n",
    "\n",
    "    print(f\"Iteration# {n_iter} Residue: {norm_residue}\")\n",
    "    n_iter += 1\n",
    "\n",
    "end = MPI.Wtime()\n",
    "\n",
    "total_time_pure_ufl = end - start\n",
    "print(f'rank#{MPI.COMM_WORLD.rank}: Total time: {total_time_pure_ufl} s')"
   ]
  },
  {
   "cell_type": "code",
   "execution_count": 38,
   "metadata": {},
   "outputs": [
    {
     "name": "stdout",
     "output_type": "stream",
     "text": [
      "0.0\n",
      "0.0\n",
      "0.0\n",
      "0.0\n"
     ]
    }
   ],
   "source": [
    "for i in range(len(dT_values_pure_ufl)):\n",
    "    print(np.max(np.abs(dT_values_pure_ufl[i] - dT_values_ex_op[i])))\n"
   ]
  },
  {
   "cell_type": "code",
   "execution_count": 39,
   "metadata": {},
   "outputs": [
    {
     "data": {
      "text/plain": [
       "array([-3.45260261e-06,  3.53278247e-06,  1.09027394e-05, -4.47265301e-06,\n",
       "       -7.18560278e-06,  6.06044436e-05, -9.36641885e-06, -6.98873700e-06,\n",
       "       -6.35777356e-06,  3.17045966e-04, -7.66910079e-06, -1.77069616e-05,\n",
       "        2.40101167e-05, -3.17305624e-06,  1.36235897e-03, -3.73333572e-06,\n",
       "       -1.20035963e-05, -2.72241527e-05,  3.41539233e-04,  0.00000000e+00,\n",
       "        4.88282487e-03,  0.00000000e+00, -5.23692908e-06, -1.71974912e-05,\n",
       "        4.48256672e-05,  2.48912563e-03,  0.00000000e+00, -5.71430492e-06,\n",
       "       -1.09976505e-06,  8.34806429e-04,  0.00000000e+00,  2.36987689e-06,\n",
       "        1.92402648e-04,  0.00000000e+00,  4.12149320e-05,  0.00000000e+00])"
      ]
     },
     "execution_count": 39,
     "metadata": {},
     "output_type": "execute_result"
    }
   ],
   "source": [
    "dT_values_pure_ufl[3]"
   ]
  },
  {
   "cell_type": "code",
   "execution_count": 40,
   "metadata": {},
   "outputs": [
    {
     "data": {
      "text/plain": [
       "array([-3.45260261e-06,  3.53278247e-06,  1.09027394e-05, -4.47265301e-06,\n",
       "       -7.18560278e-06,  6.06044436e-05, -9.36641885e-06, -6.98873700e-06,\n",
       "       -6.35777356e-06,  3.17045966e-04, -7.66910079e-06, -1.77069616e-05,\n",
       "        2.40101167e-05, -3.17305624e-06,  1.36235897e-03, -3.73333572e-06,\n",
       "       -1.20035963e-05, -2.72241527e-05,  3.41539233e-04,  0.00000000e+00,\n",
       "        4.88282487e-03,  0.00000000e+00, -5.23692908e-06, -1.71974912e-05,\n",
       "        4.48256672e-05,  2.48912563e-03,  0.00000000e+00, -5.71430492e-06,\n",
       "       -1.09976505e-06,  8.34806429e-04,  0.00000000e+00,  2.36987689e-06,\n",
       "        1.92402648e-04,  0.00000000e+00,  4.12149320e-05,  0.00000000e+00])"
      ]
     },
     "execution_count": 40,
     "metadata": {},
     "output_type": "execute_result"
    }
   ],
   "source": [
    "dT_values_ex_op[3]"
   ]
  },
  {
   "cell_type": "code",
   "execution_count": null,
   "metadata": {},
   "outputs": [],
   "source": []
  }
 ],
 "metadata": {
  "kernelspec": {
   "display_name": "Python 3",
   "language": "python",
   "name": "python3"
  },
  "language_info": {
   "codemirror_mode": {
    "name": "ipython",
    "version": 3
   },
   "file_extension": ".py",
   "mimetype": "text/x-python",
   "name": "python",
   "nbconvert_exporter": "python",
   "pygments_lexer": "ipython3",
   "version": "3.10.12"
  },
  "orig_nbformat": 4
 },
 "nbformat": 4,
 "nbformat_minor": 2
}
