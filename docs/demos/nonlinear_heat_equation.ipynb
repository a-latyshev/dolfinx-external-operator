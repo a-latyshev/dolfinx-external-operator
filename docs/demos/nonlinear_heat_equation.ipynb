{
 "cells": [
  {
   "cell_type": "markdown",
   "metadata": {},
   "source": [
    "# Nonlinear heat equation\n",
    "\n",
    "Authors: Andrey Latyshev (University of Luxembourg, Sorbonne Université, andrey.latyshev@uni.lu)\n",
    "\n",
    "In this notebook, we implement a numerical solution of a nonlinear steady-state heat equation using an external operator. Here we focus on the application of our framework to the problem, where the external operator has two operands. In addition, we leverage the flexibility of the framework to define the behaviour of the external operator using different 3rd-party libraries (here we use Numba and JAX). We strongly recommend taking a look at the simple example first in order to become familiar with the basic workflow of the application of external operators in FEniCSx.\n",
    "\n",
    "## Problem formulation\n",
    "\n",
    "Denoting the temperature field through $T$ we consider the following system on the square domain $\\Omega$:\n",
    "\n",
    "\\begin{align*}\n",
    "    \\Omega : \\quad & \\nabla \\cdot (K(T) \\nabla T) = 0 \\\\\n",
    "    \\partial\\Omega : \\quad & T = 0\n",
    "\\end{align*}\n",
    "\n",
    "where $K(T) = \\frac{1}{A + BT}$ is a nonlinear thermal conductivity, $A$ and $B$ are some constants.\n",
    "\n",
    "Let $V = H^1_0(\\Omega)$ be the functional space of admissible temperature fields then in a variational setting the problem can be written as follows.\n",
    "\n",
    "Find $T \\in V$ such that\n",
    "\n",
    "$$\n",
    "    F(\\boldsymbol{j}; \\tilde{T}) = -\\int\\frac{1}{A + BT}\\nabla T . \\nabla\\tilde{T} dx = \\int\\boldsymbol{j}(T,\\boldsymbol{\\sigma}(T)) . \\nabla\\tilde{T} dx = 0, \\quad \\forall T \\in V,\n",
    "$$ (eqn:1)\n",
    "\n",
    "where $\\boldsymbol{j} = -\\frac{1}{A + BT}\\nabla T = - K(T) \\boldsymbol{\\sigma}(T)$ is a nonlinear heat flux and through $\\boldsymbol{\\sigma}$ we denoted the gradient of the temperature field $\\nabla T$.\n",
    "\n",
    "In order to solve the nonlinear equation {eq}`eqn:1` we apply the Newton method and calculate the Gateau derivative of the functional $F$ with respect to operand $T$ in the direction $\\hat{T} \\in V$ as follows:\n",
    "\n",
    "$$\n",
    "    J(\\boldsymbol{j};\\hat{T},\\tilde{T}) = \\frac{d F}{d T}(\\boldsymbol{j}(T,\\boldsymbol{\\sigma}(T));\\hat{T}, \\tilde{T}) = \\int\\frac{d\\boldsymbol{j}}{dT}(T,\\boldsymbol{\\sigma}(T);\\hat{T}) \\nabla\\tilde{T} dx,\n",
    "$$\n",
    "\n",
    "where through $d \\cdot / dT$ we denote the Gateau derivative.\n",
    "\n",
    "## External operator\n",
    "\n",
    "In this example, we treat the heat flux $\\boldsymbol{j}$ as an external operator with two operands $T$ and $\\boldsymbol{\\sigma}(T) = \\nabla T$. In this regard, by applying the chain rule, let us write out the explicit expression of the Gateau derivative of $\\boldsymbol{j}$ here below\n",
    "\n",
    "$$\n",
    "    \\frac{d\\boldsymbol{j}}{dT}(T,\\boldsymbol{\\sigma}(T);\\hat{T}) = \\frac{\\partial\\boldsymbol{j}}{\\partial T} + \\frac{\\partial\\boldsymbol{j}}{\\partial\\boldsymbol{\\sigma}}\\frac{\\partial\\boldsymbol{\\sigma}}{\\partial T} = BK^2(T)\\boldsymbol{\\sigma}(T)\\hat{T} - K(T)\\mathbb{I}:\\nabla\\hat{T},\n",
    "$$\n",
    "where $\\mathbb{I}$ is a second-order identity tensor.\n",
    "\n",
    "According to the current version of the framework operands of an external operator may be any UFL expression. It is worth noting that derivatives of these expressions appear as terms of the full Gateaux derivative (as per the chain rule) and are computed by UFL. Consequently, the user must define evaluation only \"partial derivatives\" of the external operator and leave the operand differentiation to UFL. Thus, in our example by the evaluation of the external operator $\\frac{\\partial\\boldsymbol{j}}{\\partial\\boldsymbol{\\sigma}}$ we mean the computation of the expression $-K(T)\\mathbb{I}$. The term $\\nabla\\hat{T}$ is derived automatically by the AD tool of UFL and will be natively incorporated into the bilinear form $J$ after application of the `replace_external_operators` function. The same rule applies to the \"first\" partial derivative $\\frac{\\partial\\boldsymbol{j}}{\\partial T}$. We evaluate it as following the expression $BK^2(T)\\boldsymbol{\\sigma}(T)$ without the term $\\hat{T}$.\n",
    "\n",
    "TODO: Rewrite? Discuss this part!\n",
    "\n",
    "```{note}\n",
    "In general, the same function can be presented in numerous variations by selecting different operands as sub-expressions of this function. In our case, for example, we could have presented the heat flux $\\boldsymbol{j}$ as a function of $K(T)$ and $\\sigma(T)$ operands, but this decision would have led to more midterms due to the chain rule and therefore to more computation costs. Thus, it is important to choose wisely the operands of the external operators, which you want to use.\n",
    "```\n",
    "\n",
    "In order to start the numerical algorithm we initialize variable `T` with the following initial guess:\n",
    "\n",
    "$$\n",
    "    T(\\boldsymbol{x}) = x + 2y,\n",
    "$$\n",
    "where  $\\boldsymbol{x} = (x, y)^T$ is the space variable.\n",
    "\n",
    "## Defining the external operator\n",
    "\n",
    "FORTHEARTICLE: the framework takes care of the operands differentiation. (completely forgot to cover this!!!)"
   ]
  },
  {
   "cell_type": "markdown",
   "metadata": {},
   "source": [
    "## Preamble\n",
    "\n",
    "Importing required packages.\n"
   ]
  },
  {
   "cell_type": "code",
   "execution_count": 2,
   "metadata": {},
   "outputs": [],
   "source": [
    "from mpi4py import MPI\n",
    "from petsc4py import PETSc\n",
    "\n",
    "import basix\n",
    "import ufl\n",
    "from dolfinx import fem, mesh, common\n",
    "import dolfinx.fem.petsc  # there is an error without it, why?\n",
    "\n",
    "import numpy as np\n",
    "import numba\n",
    "import jax\n",
    "# import jax.numpy as jnp\n",
    "from jax import config\n",
    "config.update(\"jax_enable_x64\", True)\n",
    "\n",
    "import sys\n",
    "import dolfinx_ExternalOperator.external_operator as ex_op_env\n",
    "import solvers"
   ]
  },
  {
   "cell_type": "markdown",
   "metadata": {},
   "source": [
    "Here we build the mesh, construct the finite functional space and define main variables and zero boundary conditions.\n"
   ]
  },
  {
   "cell_type": "code",
   "execution_count": 3,
   "metadata": {},
   "outputs": [],
   "source": [
    "nx = 5\n",
    "domain = mesh.create_unit_square(MPI.COMM_WORLD, nx, nx)\n",
    "gdim = domain.geometry.dim\n",
    "V = fem.functionspace(domain, (\"CG\", 1, ()))\n",
    "T_tilde = ufl.TestFunction(V)\n",
    "T_hat = ufl.TrialFunction(V)\n",
    "T = fem.Function(V, name=\"T\")\n",
    "sigma = ufl.grad(T)\n",
    "dT = dolfinx.fem.Function(V, name=\"dT\")\n",
    "\n",
    "def non_zero_guess(x):\n",
    "    return x[0, :] + 2.0*x[1, :]\n",
    "\n",
    "A = 1.0\n",
    "B = 1.0\n",
    "\n",
    "def on_boundary(x):\n",
    "    return np.isclose(x[0], 0)\n",
    "\n",
    "boundary_dofs = fem.locate_dofs_geometrical(V, on_boundary)\n",
    "bc = fem.dirichletbc(PETSc.ScalarType(0), boundary_dofs, V)"
   ]
  },
  {
   "cell_type": "markdown",
   "metadata": {},
   "source": [
    "## Defining the external operator\n"
   ]
  },
  {
   "cell_type": "markdown",
   "metadata": {},
   "source": [
    "The external operator must be defined in quadrature finite element space."
   ]
  },
  {
   "cell_type": "code",
   "execution_count": 4,
   "metadata": {},
   "outputs": [],
   "source": [
    "quadrature_degree = 2\n",
    "dx = ufl.Measure(\"dx\", metadata={\n",
    "                 \"quadrature_scheme\": \"default\", \"quadrature_degree\": quadrature_degree})\n",
    "Qe = basix.ufl.quadrature_element(\n",
    "    domain.topology.cell_name(), degree=quadrature_degree, value_shape=(2,))\n",
    "Q = dolfinx.fem.functionspace(domain, Qe)\n",
    "num_cells = domain.topology.index_map(domain.topology.dim).size_local\n",
    "num_gauss_points = Qe.custom_quadrature()[0].shape[0]"
   ]
  },
  {
   "cell_type": "markdown",
   "metadata": {},
   "source": [
    "Now we need to define functions that will compute the exact values of the external operator and its derivatives. The framework gives the complete freedom of how these functions are implemented. The only constraints are:\n",
    "1. They recieve `ndarray` (Numpy-like) arrays on their input.\n",
    "2. They return a `ndarray` array, a vector holding degrees-of-freedom of the coefficient representing an external operator. This coefficient is accessible through `ref_coefficient` attribute of `femExternalOperator`.\n",
    "\n",
    "Thanks to the popularity of the Numpy package, there is plenty of other Python libraries that support the integration of `ndarray` data. Thus, there are numerous ways to define required functions. In this notebook, we focus on leverage of two powerfull packages: Numba and JAX."
   ]
  },
  {
   "cell_type": "markdown",
   "metadata": {},
   "source": [
    "### Numba\n",
    "\n",
    "The package Numba allows its users to write just-in-time (JIT) compilable Python functions. Numba typically produces highly optimised machine code with runtime performance on the level of traditional compiled languages. It is strongly integrated with Numpy and supports its numerous features, including `ndarray` data. Thus, NUmba package perfectly fits as tool to define the external operators behaviour.\n",
    "\n",
    "Let us demonstrate here below, how by using simple Python loops and JIT-ed by Numba functions we define the evaluation of the heat flux $\\boldsymbol{j}$ and its derivatives $\\frac{d\\boldsymbol{j}}{d T}$ and $\\frac{d\\boldsymbol{j}}{d\\boldsymbol{\\sigma}}$ at machine-code performance level."
   ]
  },
  {
   "cell_type": "code",
   "execution_count": 5,
   "metadata": {},
   "outputs": [],
   "source": [
    "I = np.eye(2)\n",
    "\n",
    "@numba.njit\n",
    "def K(T):\n",
    "    return 1.0/(A + B*T)\n",
    "\n",
    "@numba.njit\n",
    "def func_j_numba(T, sigma):\n",
    "    # j : scalar x vector -> vector\n",
    "    T_ = T.reshape((num_cells, num_gauss_points))\n",
    "    sigma_ = sigma.reshape((num_cells, num_gauss_points, 2))\n",
    "    j_ = np.empty_like(sigma_)\n",
    "    for i in range(0, num_cells):\n",
    "        for j in range(0, num_gauss_points):\n",
    "            j_[i, j] = -K(T_[i,j]) * sigma_[i,j]\n",
    "    return j_.reshape(-1)\n",
    "\n",
    "@numba.njit\n",
    "def func_djdT_numba(T, sigma):\n",
    "    # djdT : scalar x vector -> vector\n",
    "    T_ = T.reshape((num_cells, num_gauss_points))\n",
    "    sigma_ = sigma.reshape((num_cells, num_gauss_points, 2))\n",
    "    djdT = np.empty_like(sigma_)\n",
    "\n",
    "    for i in range(0, num_cells):\n",
    "        for j in range(0, num_gauss_points):\n",
    "            djdT[i,j] = B * K(T_[i,j])**2 * sigma_[i,j]\n",
    "    return djdT.reshape(-1)\n",
    "\n",
    "\n",
    "@numba.njit\n",
    "def func_djdsigma_numba(T, sigma):\n",
    "    # djdsigma : scalar x vector -> tensor\n",
    "    T_ = T.reshape((num_cells, num_gauss_points))\n",
    "    djdsigma_ = np.empty((num_cells, num_gauss_points, 2, 2),\n",
    "                        dtype=PETSc.ScalarType)\n",
    "\n",
    "    for i in range(0, num_cells):\n",
    "        for j in range(0, num_gauss_points):\n",
    "            djdsigma_[i,j] = -K(T_[i,j])*I\n",
    "    return djdsigma_.reshape(-1)"
   ]
  },
  {
   "cell_type": "code",
   "execution_count": 6,
   "metadata": {},
   "outputs": [],
   "source": [
    "def j_external_numba(derivatives):\n",
    "    \"\"\"Concrete numba implementation of external operator and its derivatives.\"\"\"\n",
    "    if derivatives == (0, 0):\n",
    "        return func_j_numba\n",
    "    elif derivatives == (1, 0):\n",
    "        return func_djdT_numba\n",
    "    elif derivatives == (0, 1):\n",
    "        return func_djdsigma_numba\n",
    "    else:\n",
    "        return NotImplementedError"
   ]
  },
  {
   "cell_type": "markdown",
   "metadata": {},
   "source": [
    "### JAX\n",
    "\n",
    "In some applications, explicit expression of derivatives of quantity of interest either is difficult to derive or is not possible due to different causes. Automatic differentiation may help to solve this issue. In the context of Python, the JAX package provides this feature.\n",
    "\n",
    "Moreover, JAX supports the just-in-time compilation and vectorization feature\n",
    "\n",
    "Note: Numba supports the vectorization feature as well (through the `@guvectorize` decorator), but does not have the AD tool."
   ]
  },
  {
   "cell_type": "code",
   "execution_count": 7,
   "metadata": {},
   "outputs": [],
   "source": [
    "@jax.jit\n",
    "def K(T):\n",
    "    return 1.0/(A + B*T)\n",
    "    \n",
    "@jax.jit\n",
    "def j_jax(T, sigma):\n",
    "    return -K(T) * sigma\n",
    "\n",
    "djdT = jax.jit(jax.jacfwd(j_jax, argnums=(0)))\n",
    "djdsigma = jax.jit(jax.jacfwd(j_jax, argnums=(1)))\n",
    "\n",
    "# vectorization: j_vec(T=(batch_size, 1), sigma=(batch_size, 2))\n",
    "j_vec = jax.jit(jax.vmap(j_jax, in_axes=(0, 0))) \n",
    "djdT_vec = jax.jit(jax.vmap(djdT, in_axes=(0, 0)))\n",
    "djdsigma_vec = jax.jit(jax.vmap(djdsigma, in_axes=(0, 0)))\n",
    "\n",
    "@jax.jit\n",
    "def func_j_jax(T, sigma):\n",
    "    T_ = T.reshape((num_cells*num_gauss_points))\n",
    "    sigma_ = sigma.reshape((num_cells*num_gauss_points, 2))\n",
    "    j_ = j_vec(T_, sigma_)\n",
    "    return j_.reshape(-1)\n",
    "\n",
    "@jax.jit\n",
    "def func_djdT_jax(T, sigma):\n",
    "    T_ = T.reshape((num_cells*num_gauss_points))\n",
    "    sigma_ = sigma.reshape((num_cells*num_gauss_points, 2))\n",
    "    j_ = djdT_vec(T_, sigma_)\n",
    "    return j_.reshape(-1)\n",
    "\n",
    "@jax.jit\n",
    "def func_djdsigma_jax(T, sigma):\n",
    "    T_ = T.reshape((num_cells*num_gauss_points))\n",
    "    sigma_ = sigma.reshape((num_cells*num_gauss_points, 2))\n",
    "    j_ = djdsigma_vec(T_, sigma_)\n",
    "    return j_.reshape(-1)\n",
    "\n",
    "# sigma_zero_ = jnp.array([0.0, 0.0])\n",
    "# @jax.jit\n",
    "# def func_j_jax(T, sigma):\n",
    "#     # j : scalar x vector -> vector\n",
    "#     T_vectorized = T.reshape((num_cells*num_gauss_points, 1))\n",
    "#     sigma_vectorized = sigma.reshape((num_cells*num_gauss_points, 2))\n",
    "#     out = vj(T_vectorized, sigma_vectorized)\n",
    "#     return out.reshape(-1)\n",
    "\n",
    "# @jax.jit\n",
    "# def func_djdT_jax(T, sigma):\n",
    "#     # djdT : scalar x vector -> vector\n",
    "#     T_vectorized = T.reshape((num_cells*num_gauss_points, 1))\n",
    "#     sigma_vectorized = sigma.reshape((num_cells*num_gauss_points, 2))\n",
    "#     out = vdjdT(T_vectorized, sigma_vectorized)\n",
    "#     return out.reshape(-1)\n",
    "\n",
    "# @jax.jit\n",
    "# def func_djdsigma_jax(T, sigma):\n",
    "#     # djdsigma : scalar x vector -> tensor\n",
    "#     T_vectorized = T.reshape((num_cells*num_gauss_points, 1))\n",
    "#     sigma_vectorized = sigma.reshape((num_cells*num_gauss_points, 2))\n",
    "#     out = vdjdsigma(T_vectorized, sigma_vectorized)\n",
    "\n",
    "#     return out.reshape(-1)"
   ]
  },
  {
   "cell_type": "code",
   "execution_count": 8,
   "metadata": {},
   "outputs": [],
   "source": [
    "def j_external_jax(derivatives):\n",
    "    \"\"\"Concrete JAX implementation of external operator and its derivatives.\"\"\"\n",
    "    if derivatives == (0, 0):\n",
    "        return func_j_jax\n",
    "    elif derivatives == (1, 0):\n",
    "        return func_djdT_jax\n",
    "    elif derivatives == (0, 1):\n",
    "        return func_djdsigma_jax\n",
    "    else:\n",
    "        return NotImplementedError"
   ]
  },
  {
   "cell_type": "markdown",
   "metadata": {},
   "source": [
    "## Solving the problem using external operators"
   ]
  },
  {
   "cell_type": "code",
   "execution_count": 9,
   "metadata": {},
   "outputs": [],
   "source": [
    "j = ex_op_env.femExternalOperator(\n",
    "    T, sigma, function_space=Q, external_function=j_external_jax)\n",
    "\n",
    "F_ext = ufl.inner(j, ufl.grad(T_tilde))*dx\n",
    "J_ext = ufl.derivative(F_ext, T, T_hat)"
   ]
  },
  {
   "cell_type": "code",
   "execution_count": 10,
   "metadata": {},
   "outputs": [],
   "source": [
    "F_replaced, F_ex_ops_list = ex_op_env.replace_external_operators(F_ext)\n",
    "F_dolfinx = fem.form(F_replaced)"
   ]
  },
  {
   "cell_type": "code",
   "execution_count": 11,
   "metadata": {},
   "outputs": [],
   "source": [
    "J_expanded = ufl.algorithms.expand_derivatives(J_ext)\n",
    "J_replaced, J_ex_ops_list = ex_op_env.replace_external_operators(J_expanded)\n",
    "J_dolfinx = fem.form(J_replaced)"
   ]
  },
  {
   "cell_type": "code",
   "execution_count": 12,
   "metadata": {},
   "outputs": [],
   "source": [
    "timer1 = common.Timer(\"1st numba pass\")\n",
    "start = MPI.Wtime()\n",
    "timer1.start()\n",
    "\n",
    "evaluated_operands = ex_op_env.evaluate_operands(F_ex_ops_list)\n",
    "ex_op_env.evaluate_external_operators(F_ex_ops_list, evaluated_operands)\n",
    "# NOTE: Operands are re-used from previous step.\n",
    "ex_op_env.evaluate_external_operators(J_ex_ops_list, evaluated_operands)\n",
    "\n",
    "end = MPI.Wtime()\n",
    "timer1.stop()\n",
    "time1 = end - start"
   ]
  },
  {
   "cell_type": "code",
   "execution_count": 13,
   "metadata": {},
   "outputs": [],
   "source": [
    "timer2 = common.Timer(\"1st numba pass\")\n",
    "start = MPI.Wtime()\n",
    "timer2.start()\n",
    "\n",
    "evaluated_operands = ex_op_env.evaluate_operands(F_ex_ops_list)\n",
    "ex_op_env.evaluate_external_operators(F_ex_ops_list, evaluated_operands)\n",
    "# NOTE: Operands are re-used from previous step.\n",
    "ex_op_env.evaluate_external_operators(J_ex_ops_list, evaluated_operands)\n",
    "\n",
    "end = MPI.Wtime()\n",
    "timer2.stop()\n",
    "time2 = end - start"
   ]
  },
  {
   "cell_type": "code",
   "execution_count": 14,
   "metadata": {},
   "outputs": [],
   "source": [
    "T.interpolate(non_zero_guess)\n",
    "evaluated_operands = ex_op_env.evaluate_operands(F_ex_ops_list)\n",
    "ex_op_env.evaluate_external_operators(F_ex_ops_list, evaluated_operands)\n",
    "ex_op_env.evaluate_external_operators(J_ex_ops_list, evaluated_operands)\n",
    "\n",
    "linear_problem = solvers.LinearProblem(J_replaced, -F_replaced, T, bcs=[bc])\n",
    "\n",
    "linear_problem.assemble_vector()\n",
    "norm_residue_0 = linear_problem.b.norm()\n",
    "norm_residue = norm_residue_0\n",
    "tol, n_iter_max = 1e-3, 500\n",
    "n_iter = 0"
   ]
  },
  {
   "cell_type": "code",
   "execution_count": 15,
   "metadata": {},
   "outputs": [],
   "source": [
    "dT_values_ex_op = []"
   ]
  },
  {
   "cell_type": "code",
   "execution_count": 16,
   "metadata": {},
   "outputs": [
    {
     "name": "stdout",
     "output_type": "stream",
     "text": [
      "Residue0: 0.591756341084453\n",
      "Iteration# 0 Residue: 0.27294927509994893\n",
      "Iteration# 1 Residue: 0.0579440622387055\n",
      "Iteration# 2 Residue: 0.0022261060269500796\n",
      "Iteration# 3 Residue: 2.2566792488308377e-06\n"
     ]
    }
   ],
   "source": [
    "timer3 = common.Timer(\"Solving the problem\")\n",
    "start = MPI.Wtime()\n",
    "timer3.start()\n",
    "\n",
    "print(f\"Residue0: {norm_residue_0}\")\n",
    "while norm_residue/norm_residue_0 > tol and n_iter < n_iter_max:\n",
    "    linear_problem.assemble_matrix()\n",
    "    linear_problem.solve(dT)\n",
    "    T.vector.axpy(1, dT.vector)\n",
    "    T.x.scatter_forward()\n",
    "    dT_values_ex_op.append(dT.x.array)\n",
    "\n",
    "    evaluated_operands = ex_op_env.evaluate_operands(F_ex_ops_list)\n",
    "    ex_op_env.evaluate_external_operators(F_ex_ops_list, evaluated_operands)\n",
    "    # NOTE: Operands are re-used from previous step.\n",
    "    ex_op_env.evaluate_external_operators(J_ex_ops_list, evaluated_operands)\n",
    "\n",
    "    linear_problem.assemble_vector()\n",
    "    norm_residue = linear_problem.b.norm()\n",
    "    print(f\"Iteration# {n_iter} Residue: {norm_residue}\")\n",
    "    n_iter += 1\n",
    "\n",
    "end = MPI.Wtime()\n",
    "timer3.stop()\n",
    "\n",
    "total_time_ex_op = end - start\n",
    "\n",
    "# print(f'rank#{MPI.COMM_WORLD.rank}: Total time = {total_time_ex_op:.3f} (s)')\n",
    "# print(f'rank#{MPI.COMM_WORLD.rank}: Compilation overhead: {time1 - time2:.3f} s')\n",
    "# print(f'rank#{MPI.COMM_WORLD.rank}: Total time pure UFL: {total_time_pure_ufl:.3f} s')"
   ]
  },
  {
   "cell_type": "markdown",
   "metadata": {},
   "source": [
    "## Solving the problem using only UFL"
   ]
  },
  {
   "cell_type": "code",
   "execution_count": 17,
   "metadata": {},
   "outputs": [],
   "source": [
    "K = 1.0/(A + B*T)\n",
    "j = -K*sigma\n",
    "F = ufl.inner(j, ufl.grad(T_tilde))*dx\n",
    "J = ufl.derivative(F, T, T_hat)\n",
    "T.interpolate(non_zero_guess)"
   ]
  },
  {
   "cell_type": "code",
   "execution_count": 18,
   "metadata": {},
   "outputs": [],
   "source": [
    "linear_problem = solvers.LinearProblem(J, -F, T, bcs=[bc])\n",
    "linear_problem.assemble_vector()\n",
    "\n",
    "norm_residue_0 = linear_problem.b.norm()\n",
    "norm_residue = norm_residue_0\n",
    "norm_residue_0\n",
    "\n",
    "n_iter = 0"
   ]
  },
  {
   "cell_type": "code",
   "execution_count": 19,
   "metadata": {},
   "outputs": [],
   "source": [
    "dT_values_pure_ufl = []"
   ]
  },
  {
   "cell_type": "code",
   "execution_count": 20,
   "metadata": {},
   "outputs": [
    {
     "name": "stdout",
     "output_type": "stream",
     "text": [
      "Iteration# 0 Residue: 0.27294927509994893\n",
      "Iteration# 1 Residue: 0.057944062238705685\n",
      "Iteration# 2 Residue: 0.0022261060269498927\n",
      "Iteration# 3 Residue: 2.2566792488152625e-06\n",
      "rank#0: Total time: 0.0021598729999823263 s\n"
     ]
    }
   ],
   "source": [
    "start = MPI.Wtime()\n",
    "\n",
    "while norm_residue/norm_residue_0 > tol and n_iter < n_iter_max:\n",
    "    linear_problem.assemble_matrix()\n",
    "    linear_problem.solve(dT)\n",
    "    T.vector.axpy(1, dT.vector)\n",
    "    T.x.scatter_forward()\n",
    "    dT_values_pure_ufl.append(dT.x.array)\n",
    "\n",
    "    linear_problem.assemble_vector()\n",
    "    norm_residue = linear_problem.b.norm()\n",
    "\n",
    "    print(f\"Iteration# {n_iter} Residue: {norm_residue}\")\n",
    "    n_iter += 1\n",
    "\n",
    "end = MPI.Wtime()\n",
    "\n",
    "total_time_pure_ufl = end - start\n",
    "print(f'rank#{MPI.COMM_WORLD.rank}: Total time: {total_time_pure_ufl} s')"
   ]
  },
  {
   "cell_type": "code",
   "execution_count": 21,
   "metadata": {},
   "outputs": [
    {
     "name": "stdout",
     "output_type": "stream",
     "text": [
      "0.0\n",
      "0.0\n",
      "0.0\n",
      "0.0\n"
     ]
    }
   ],
   "source": [
    "for i in range(len(dT_values_pure_ufl)):\n",
    "    print(np.max(np.abs(dT_values_pure_ufl[i] - dT_values_ex_op[i])))\n"
   ]
  },
  {
   "cell_type": "code",
   "execution_count": 22,
   "metadata": {},
   "outputs": [
    {
     "data": {
      "text/plain": [
       "array([-3.45260261e-06,  3.53278247e-06,  1.09027394e-05, -4.47265301e-06,\n",
       "       -7.18560278e-06,  6.06044436e-05, -9.36641885e-06, -6.98873700e-06,\n",
       "       -6.35777356e-06,  3.17045966e-04, -7.66910079e-06, -1.77069616e-05,\n",
       "        2.40101167e-05, -3.17305624e-06,  1.36235897e-03, -3.73333572e-06,\n",
       "       -1.20035963e-05, -2.72241527e-05,  3.41539233e-04,  0.00000000e+00,\n",
       "        4.88282487e-03,  0.00000000e+00, -5.23692908e-06, -1.71974912e-05,\n",
       "        4.48256672e-05,  2.48912563e-03,  0.00000000e+00, -5.71430492e-06,\n",
       "       -1.09976505e-06,  8.34806429e-04,  0.00000000e+00,  2.36987689e-06,\n",
       "        1.92402648e-04,  0.00000000e+00,  4.12149320e-05,  0.00000000e+00])"
      ]
     },
     "execution_count": 22,
     "metadata": {},
     "output_type": "execute_result"
    }
   ],
   "source": [
    "dT_values_pure_ufl[3]"
   ]
  },
  {
   "cell_type": "code",
   "execution_count": 23,
   "metadata": {},
   "outputs": [
    {
     "data": {
      "text/plain": [
       "array([-3.45260261e-06,  3.53278247e-06,  1.09027394e-05, -4.47265301e-06,\n",
       "       -7.18560278e-06,  6.06044436e-05, -9.36641885e-06, -6.98873700e-06,\n",
       "       -6.35777356e-06,  3.17045966e-04, -7.66910079e-06, -1.77069616e-05,\n",
       "        2.40101167e-05, -3.17305624e-06,  1.36235897e-03, -3.73333572e-06,\n",
       "       -1.20035963e-05, -2.72241527e-05,  3.41539233e-04,  0.00000000e+00,\n",
       "        4.88282487e-03,  0.00000000e+00, -5.23692908e-06, -1.71974912e-05,\n",
       "        4.48256672e-05,  2.48912563e-03,  0.00000000e+00, -5.71430492e-06,\n",
       "       -1.09976505e-06,  8.34806429e-04,  0.00000000e+00,  2.36987689e-06,\n",
       "        1.92402648e-04,  0.00000000e+00,  4.12149320e-05,  0.00000000e+00])"
      ]
     },
     "execution_count": 23,
     "metadata": {},
     "output_type": "execute_result"
    }
   ],
   "source": [
    "dT_values_ex_op[3]"
   ]
  },
  {
   "cell_type": "code",
   "execution_count": null,
   "metadata": {},
   "outputs": [],
   "source": []
  }
 ],
 "metadata": {
  "kernelspec": {
   "display_name": "Python 3",
   "language": "python",
   "name": "python3"
  },
  "language_info": {
   "codemirror_mode": {
    "name": "ipython",
    "version": 3
   },
   "file_extension": ".py",
   "mimetype": "text/x-python",
   "name": "python",
   "nbconvert_exporter": "python",
   "pygments_lexer": "ipython3",
   "version": "3.10.12"
  },
  "orig_nbformat": 4
 },
 "nbformat": 4,
 "nbformat_minor": 2
}
