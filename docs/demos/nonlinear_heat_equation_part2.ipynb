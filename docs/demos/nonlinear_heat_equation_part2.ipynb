{
 "cells": [
  {
   "cell_type": "markdown",
   "id": "62f8eb4f",
   "metadata": {
    "lines_to_next_cell": 0
   },
   "source": [
    "# More complex example\n",
    "\n",
    "In this notebook, we assemble the Jacobian and residual of a steady-state heat\n",
    "equation with an external operator to be used to define a non-linear flux law.\n",
    "\n",
    "To keep the concepts simple we do not solve the non-linear problem, which we\n",
    "leave to a subsequent demo.\n",
    "\n",
    "In this tutorial you will learn how to:\n",
    "\n",
    "- define a UFL form including an `FEMExternalOperator` which symbolically\n",
    "  represents an external operator,\n",
    "- define the concrete external definition operator using `numpy` and\n",
    "  functional programming techniques, and then attach it to the symbolic\n",
    "  `FEMExternalOperator`,\n",
    "- and assemble the Jacobian and residual operators that can be used inside a\n",
    "  linear or non-linear solver.\n",
    "\n",
    "We assume some basic familiarity with finite element methods, non-linear\n",
    "variational problems and FEniCS.\n",
    "\n",
    "## Problem formulation\n",
    "\n",
    "Denoting the temperature field $T$ and its gradient $\\boldsymbol{\\sigma} :=\n",
    "\\nabla T$ we consider the following system on the square domain $\\Omega :=\n",
    "[0, 1]^2$ with boundary $\\partial \\Omega$\n",
    "\n",
    "\\begin{align*}\n",
    "     \\nabla \\cdot \\boldsymbol{q} &= f \\quad \\mathrm{on} \\; \\Omega, \\\\\n",
    "     \\boldsymbol{q}(T, \\boldsymbol{\\sigma}(T)) &= -k(T) \\boldsymbol{\\sigma}, \\\\\n",
    "\\end{align*}\n",
    "where $f$ is a given function. With flux $\\boldsymbol{q} = -k\n",
    "\\boldsymbol{\\sigma}$ for $k = \\mathrm{const}$ we recover the standard Fourier\n",
    "heat problem. However, here we will assume that the $\\boldsymbol{q}$ is some\n",
    "general function of $T$ and $\\boldsymbol{\\sigma}(T)$ that we would like to\n",
    "specify $\\boldsymbol{q}$ using some external (non-UFL) piece of code.\n",
    "\n",
    "Let $V = H^1_0(\\Omega)$ be the usual Sobolev space of square-integrable\n",
    "functions with square-integrable derivatives and vanishing value on the\n",
    "boundary $\\partial \\Omega$. Then in a variational setting, the problem can be\n",
    "written in residual form as find $T \\in V$ such that\n",
    "\n",
    "$$\n",
    "  F(T; \\tilde{T}) = \\int \\boldsymbol{q}(T, \\nabla T) \\cdot \\nabla \\tilde{T} - f \\cdot\n",
    "  \\tilde{T} \\; \\mathrm{d}x = 0 \\quad \\forall \\tilde{T} \\in V,\n",
    "$$ (eq_1)\n",
    "\n",
    "where the semi-colon denotes the split between arguments in which the form is\n",
    "non-linear (on the left) and linear (on the right). \n",
    "\n",
    "To solve the nonlinear equation {eq}`eq_1` we apply Newton's method which\n",
    "requires the computation of Jacobian, or the Gateaux derivative of $F$.\n",
    "\n",
    "\\begin{equation*}\n",
    "  J(T; \\hat{T}, \\tilde{T}) := D_{T} [ F(T; \\tilde{T}) ] \\lbrace \\hat{T} \\rbrace := \\int D_T[\\boldsymbol{q}(T, \\nabla T)] \\lbrace \\hat{T} \\rbrace \\cdot \\nabla \\tilde{T} \\; \\mathrm{d}x\n",
    "\\end{equation*}\n",
    "\n",
    "```{note}\n",
    "The above result uses the product rule $D_{x}(fg)\\lbrace \\hat{x} \\rbrace =\n",
    "(D_x(f)\\lbrace \\hat{x} \\rbrace) g + f(D_x(g)\\lbrace \\hat{x} \\rbrace)$ and\n",
    "that the Gateaux derivative and integral can be exchanged safely.\n",
    "```\n",
    "\n",
    "Dropping the explicit dependence of $\\boldsymbol{q}$ on $T$ and $\\nabla T$\n",
    "for notational convenience we can use the chain rule to write\n",
    "\\begin{align*}\n",
    "  D_{T}[\\boldsymbol{q}]\\lbrace \\hat{T} \\rbrace &= D_T [\\boldsymbol{q}]\\lbrace\n",
    "  D_T[T]\\lbrace \\hat{T} \\rbrace \\rbrace +\n",
    "  D_{\\boldsymbol{\\sigma}}[\\boldsymbol{q}] \\lbrace\n",
    "  D_T[\\boldsymbol{\\sigma}]\\lbrace \\hat{T} \\rbrace \\rbrace \\\\\n",
    "  &= D_T [\\boldsymbol{q}]\\lbrace \\hat{T} \\rbrace +\n",
    "  D_{\\boldsymbol{\\sigma}}[\\boldsymbol{q}] \\lbrace \\nabla \\hat{T} \\rbrace \\\\\n",
    "\\end{align*}\n",
    "\n",
    "To fix ideas, we now assume the following explicit form for the material\n",
    "conductivity\n",
    "\\begin{equation*}\n",
    "  k(T) = \\frac{1}{A + BT}\n",
    "\\end{equation*}\n",
    "where $A$ and $B$ are material constants. After some algebra we can derive\n",
    "\\begin{align*}\n",
    "  D_T [\\boldsymbol{q}]\\lbrace \\hat{T} \\rbrace &=\n",
    "  [Bk^2(T)\\boldsymbol{\\sigma}(T)] \\hat{T} \\\\\n",
    "  D_{\\boldsymbol{\\sigma}}[\\boldsymbol{q}] \\lbrace \\nabla \\hat{T} \\rbrace &=\n",
    "  [-k(T) \\boldsymbol{I}] \\cdot \\nabla \\hat{T}\n",
    "\\end{align*}\n",
    "We now proceed to the definition of residual and Jacobian of this problem\n",
    "where $\\boldsymbol{q}$ will be defined using the `FEMExternalOperator` approach\n",
    "and an external implementation using `numpy`. \n",
    "```{note}\n",
    "This simple model can also be implemented in pure UFL and the Jacobian\n",
    "derived symbolically using UFL's `derivative` function.\n",
    "```\n",
    "\n",
    "## Implementation\n",
    "\n",
    "### Preamble\n",
    "\n",
    "We import from the required packages, create a mesh, and a scalar-valued\n",
    "function space which we will use to discretise the temperature field $T$."
   ]
  },
  {
   "cell_type": "code",
   "execution_count": 176,
   "id": "4963ca8b",
   "metadata": {},
   "outputs": [],
   "source": [
    "\n",
    "from mpi4py import MPI\n",
    "from petsc4py import PETSc\n",
    "\n",
    "import numpy as np\n",
    "\n",
    "import basix\n",
    "import ufl\n",
    "import ufl.algorithms\n",
    "from dolfinx import fem, mesh\n",
    "from dolfinx_external_operator import FEMExternalOperator, replace_external_operators\n",
    "from dolfinx_external_operator.external_operator import evaluate_external_operators, evaluate_operands\n",
    "from ufl import Measure, TestFunction, TrialFunction, derivative, grad, inner\n",
    "\n",
    "domain = mesh.create_unit_square(MPI.COMM_WORLD, 1, 1)\n",
    "V = fem.functionspace(domain, (\"CG\", 1))"
   ]
  },
  {
   "cell_type": "markdown",
   "id": "b0a2e1c4",
   "metadata": {
    "lines_to_next_cell": 0
   },
   "source": [
    "### Defining the external operator\n",
    "We will begin by defining the input *operands* $T$ and $\\boldsymbol{\\sigma}$\n",
    "needed to specify the external operator $\\boldsymbol{q}(T,\n",
    "\\boldsymbol{\\sigma}(T))$. The operands of an `FEMExternalOperator` can be any\n",
    "`ufl.Expr` object."
   ]
  },
  {
   "cell_type": "code",
   "execution_count": 177,
   "id": "69af1519",
   "metadata": {},
   "outputs": [],
   "source": [
    "T = fem.Function(V)\n",
    "sigma = grad(T)"
   ]
  },
  {
   "cell_type": "markdown",
   "id": "46c10bea",
   "metadata": {
    "lines_to_next_cell": 0
   },
   "source": [
    "To start the Newton method we require non-zero assembled residual and Jacobian,\n",
    "thus we initialize the variable `T` with the following non-zero function\n",
    "\n",
    "$$\n",
    "    T = x^2 + y\n",
    "$$"
   ]
  },
  {
   "cell_type": "code",
   "execution_count": 178,
   "id": "d2d156e2",
   "metadata": {},
   "outputs": [],
   "source": [
    "T.interpolate(lambda x: x[0] ** 2 + x[1])"
   ]
  },
  {
   "cell_type": "markdown",
   "id": "2871af76",
   "metadata": {
    "lines_to_next_cell": 0
   },
   "source": [
    "We also need to define a `fem.FunctionSpace` in which the output of the external\n",
    "operator $\\boldsymbol{q}$ will live. For optimal convergence, $\\boldsymbol{q}$\n",
    "must be evaluated directly at the Gauss points used in the integration of the\n",
    "weak form. This can be enforced by constructing a quadrature function space\n",
    "and an integration measure `dx` using the same rule."
   ]
  },
  {
   "cell_type": "code",
   "execution_count": 179,
   "id": "9a655682",
   "metadata": {},
   "outputs": [],
   "source": [
    "quadrature_degree = 2\n",
    "Qe = basix.ufl.quadrature_element(domain.topology.cell_name(), degree=quadrature_degree, value_shape=(2,))\n",
    "Q = fem.functionspace(domain, Qe)\n",
    "dx = Measure(\"dx\", metadata={\"quadrature_scheme\": \"default\", \"quadrature_degree\": quadrature_degree})"
   ]
  },
  {
   "cell_type": "markdown",
   "id": "6be17b12",
   "metadata": {
    "lines_to_next_cell": 0
   },
   "source": [
    "We now have all of the ingredients to define the external operator."
   ]
  },
  {
   "cell_type": "code",
   "execution_count": 180,
   "id": "7fc0aec8",
   "metadata": {},
   "outputs": [],
   "source": [
    "q_ = FEMExternalOperator(T, sigma, function_space=Q)"
   ]
  },
  {
   "cell_type": "markdown",
   "id": "6fee19f2",
   "metadata": {
    "lines_to_next_cell": 0
   },
   "source": [
    "Note that at this stage the `q_` is symbolic and we have not defined the\n",
    "`numpy` code to compute it. This will be done later in the example.\n",
    "```{note}\n",
    "`FEMExternalOperator` holds a `fem.Function` to store its evaluation.\n",
    "```"
   ]
  },
  {
   "cell_type": "markdown",
   "id": "62edaa39",
   "metadata": {
    "lines_to_next_cell": 0
   },
   "source": [
    "### Residual\n",
    "The external operator can be used in the definition of the residual $F$."
   ]
  },
  {
   "cell_type": "code",
   "execution_count": 181,
   "id": "16419923",
   "metadata": {},
   "outputs": [],
   "source": [
    "T_tilde = TestFunction(V)\n",
    "F = inner(q_, grad(T_tilde)) * dx"
   ]
  },
  {
   "cell_type": "markdown",
   "id": "a39b8f9e",
   "metadata": {
    "lines_to_next_cell": 0
   },
   "source": [
    "### Implementing the external operator\n",
    "The symbolic `FEMExternalOperator` is linked to its implementation using\n",
    "functional programming techniques. This approach is similar to how the\n",
    "`interpolate` function works in DOLFINx.\n",
    "\n",
    "In the first step, the user must define Python functions(s) that accept\n",
    "`np.ndarray` containing the evaluated operands (here, $T$ and\n",
    "$\\boldsymbol{\\sigma}$) at the global interpolation points associated with the\n",
    "output function space. These Function(s) must return an `np.ndarray` object\n",
    "containing the evaluation of the external operator at all of the global\n",
    "interpolation points. We discuss the sizing of these arrays directly in the\n",
    "code below.\n",
    "\n",
    "We begin by defining the Python functions for the left part of\n",
    "\\begin{equation*}\n",
    "    [\\boldsymbol{q}(T, \\nabla T)] \\cdot \\nabla \\tilde{T}\n",
    "\\end{equation*}\n",
    "here we recall\n",
    "\\begin{align*}\n",
    "    \\boldsymbol{q} &= -k(T) \\boldsymbol{\\sigma}, \\\\\n",
    "    k(T) &= \\frac{1}{A + BT}\n",
    "\\end{align*}"
   ]
  },
  {
   "cell_type": "code",
   "execution_count": 182,
   "id": "03157a3a",
   "metadata": {
    "lines_to_next_cell": 2
   },
   "outputs": [],
   "source": [
    "A = 1.0\n",
    "B = 1.0\n",
    "Id = np.eye(2)\n",
    "gdim = domain.geometry.dim\n",
    "\n",
    "\n",
    "def k(T):\n",
    "    return 1.0 / (A + B * T)\n",
    "\n",
    "\n",
    "def q_impl(T, sigma):\n",
    "    # T has shape `(num_cells, num_interpolation_points_per_cell)`\n",
    "    num_cells = T.shape[0]\n",
    "    # sigma has shape `(num_cells, num_interpolation_points_per_cell*value_shape)`\n",
    "    # We reshape `sigma` to have shape `(num_cells,\n",
    "    # num_interpolation_points_per_cell, np.prod(value_shape))`\n",
    "    sigma_ = sigma.reshape((num_cells, -1, gdim))\n",
    "    # Array for output with shape `(num_cells,\n",
    "    # num_interpolation_points_per_cell, np.prod(value_shape))`\n",
    "    output = - k(T)[:, :, np.newaxis] * sigma_ \n",
    "    # The output must be returned flattened to one dimension\n",
    "    return output.reshape(-1)"
   ]
  },
  {
   "cell_type": "markdown",
   "id": "79524af8",
   "metadata": {
    "lines_to_next_cell": 0
   },
   "source": [
    "Because we also wish to assemble the Jacobian we will also require\n",
    "implementations of the left part of the derivative\n",
    "\\begin{equation*}\n",
    "    D_T [\\boldsymbol{q}]\\lbrace \\hat{T} \\rbrace =\n",
    "    [Bk^2(T)\\boldsymbol{\\sigma}(T)] \\hat{T}\n",
    "\\end{equation*}"
   ]
  },
  {
   "cell_type": "code",
   "execution_count": 183,
   "id": "bdce265f",
   "metadata": {
    "lines_to_next_cell": 2
   },
   "outputs": [],
   "source": [
    "def dqdT_impl(T, sigma):\n",
    "    num_cells = T.shape[0]\n",
    "    sigma_ = sigma.reshape((num_cells, -1, gdim))\n",
    "    output = B * (k(T) ** 2)[:, :, np.newaxis] * sigma_\n",
    "    return output.reshape(-1)"
   ]
  },
  {
   "cell_type": "markdown",
   "id": "02e0af86",
   "metadata": {
    "lines_to_next_cell": 0
   },
   "source": [
    "and the left part of the derivative\n",
    "\\begin{equation*}\n",
    "D_{\\boldsymbol{\\sigma}}[\\boldsymbol{q}] \\lbrace \\nabla \\hat{T} \\rbrace =\n",
    "[-k(T) \\boldsymbol{I}] \\cdot \\nabla \\hat{T}\n",
    "\\end{equation*}"
   ]
  },
  {
   "cell_type": "code",
   "execution_count": 184,
   "id": "d7b00983",
   "metadata": {
    "lines_to_next_cell": 2
   },
   "outputs": [],
   "source": [
    "def dqdsigma_impl(T, sigma):\n",
    "    output = -k(T)[:, :, np.newaxis, np.newaxis] * Id[np.newaxis, np.newaxis, :, :]\n",
    "    return output.reshape(-1)"
   ]
  },
  {
   "cell_type": "markdown",
   "id": "97863f16",
   "metadata": {
    "lines_to_next_cell": 0
   },
   "source": [
    "Note that we do not need to explicitly incorporate the action of the finite\n",
    "element trial $\\tilde{T}$ or test functions $\\hat{T}$; it will be handled by\n",
    "DOLFINx during assembly.\n",
    "\n",
    "The final function that the user must define is a higher-order function (a\n",
    "function that returns other functions) that takes in a derivative multi-index\n",
    "as its only argument and returns the appropriate function from the three\n",
    "previous definitions."
   ]
  },
  {
   "cell_type": "code",
   "execution_count": 185,
   "id": "3d91cc8a",
   "metadata": {},
   "outputs": [],
   "source": [
    "def q_external(derivatives):\n",
    "    if derivatives == (0, 0):\n",
    "        return q_impl\n",
    "    elif derivatives == (1, 0):\n",
    "        return dqdT_impl\n",
    "    elif derivatives == (0, 1):\n",
    "        return dqdsigma_impl\n",
    "    else:\n",
    "        return NotImplementedError"
   ]
  },
  {
   "cell_type": "markdown",
   "id": "0003b0d8",
   "metadata": {
    "lines_to_next_cell": 0
   },
   "source": [
    "We can now attach the implementation of the external function `q` to our\n",
    "`FEMExternalOperator` symbolic object `q_`."
   ]
  },
  {
   "cell_type": "code",
   "execution_count": 186,
   "id": "25070668",
   "metadata": {},
   "outputs": [],
   "source": [
    "q_.external_function = q_external"
   ]
  },
  {
   "cell_type": "markdown",
   "id": "75c31e7a",
   "metadata": {
    "lines_to_next_cell": 0
   },
   "source": [
    "### Jacobian\n",
    "We can now use UFL's built-in `derivative` method to derive the Jacobian\n",
    "automatically."
   ]
  },
  {
   "cell_type": "code",
   "execution_count": 187,
   "id": "84c2e94b",
   "metadata": {},
   "outputs": [],
   "source": [
    "T_hat = TrialFunction(V)\n",
    "J = derivative(F, T, T_hat)"
   ]
  },
  {
   "cell_type": "markdown",
   "id": "2ca28930",
   "metadata": {
    "lines_to_next_cell": 0
   },
   "source": [
    "### Transformations\n",
    "TODO: Explain the motivation (?) why we need to replace and not just assemble the form.\n",
    "To apply the chain rule and obtain a new form symbolically equivalent to\n",
    "\n",
    "\\begin{equation*}\n",
    "    J(T; \\hat{T}, \\tilde{T}) = \\int (D_T [\\boldsymbol{q}]\\lbrace \\hat{T} \\rbrace +\n",
    "D_{\\boldsymbol{\\sigma}}[\\boldsymbol{q}] \\lbrace \\nabla \\hat{T} \\rbrace) \\cdot \\nabla \\tilde{T} \\; \\mathrm{d}x \\\\\n",
    "\\end{equation*}\n",
    "\n",
    "and which can be assembled via DOLFINx, we apply UFL's derivative expansion\n",
    "algorithm. This algorithm is aware of the `FEMExternalOperator` semantics and\n",
    "the chain rule, and creates a new form containing new `FEMExternalOperator`\n",
    "objects associated with the terms $D_T [\\boldsymbol{q}]\\lbrace \\hat{T} \\rbrace$\n",
    "and $D_{\\boldsymbol{\\sigma}}[\\boldsymbol{q}] \\lbrace \\nabla \\hat{T} \\rbrace$."
   ]
  },
  {
   "cell_type": "code",
   "execution_count": 188,
   "id": "74df9836",
   "metadata": {},
   "outputs": [],
   "source": [
    "J_expanded = ufl.algorithms.expand_derivatives(J)"
   ]
  },
  {
   "cell_type": "markdown",
   "id": "df2f4b42",
   "metadata": {
    "lines_to_next_cell": 0
   },
   "source": [
    "In order to assemble `F` and `J` we must apply a further transformation that\n",
    "replaces the `FEMExternalOperator` in the forms with their owned `fem.Function`,\n",
    "which are accessible through `ref_coefficient` attribute of the\n",
    "`FEMExternalOperator` object."
   ]
  },
  {
   "cell_type": "code",
   "execution_count": 189,
   "id": "ba7def4d",
   "metadata": {
    "lines_to_next_cell": 0
   },
   "outputs": [],
   "source": [
    "F_replaced, F_external_operators = replace_external_operators(F)\n",
    "J_replaced, J_external_operators = replace_external_operators(J_expanded)"
   ]
  },
  {
   "cell_type": "markdown",
   "id": "2ac05012",
   "metadata": {
    "lines_to_next_cell": 0
   },
   "source": [
    "```{note}\n",
    "`*_replaced` contain standard `ufl.Form` objects mathematically similar to\n",
    "`F` and `J_expanded` but with `FEMExternalOperators` replaced with the\n",
    "`fem.Function` associated with the `FEMExternalOperator`.\n",
    "`*_external_operators` are lists of the `FEMExternalOperator` objects found\n",
    "`F` and `J_expanded`.\n",
    "```\n",
    "\n",
    "### Assembly\n",
    "We can now proceed with the finite element assembly in three key steps. \n",
    "1. Evaluate the operands (`T` and `sigma`) associated with the\n",
    "`FEMExternalOperator`(s) on the quadrature space `Q`."
   ]
  },
  {
   "cell_type": "code",
   "execution_count": 190,
   "id": "cdd05147",
   "metadata": {
    "lines_to_next_cell": 0
   },
   "outputs": [],
   "source": [
    "evaluated_operands = evaluate_operands(F_external_operators)"
   ]
  },
  {
   "cell_type": "markdown",
   "id": "887fb561",
   "metadata": {
    "lines_to_next_cell": 0
   },
   "source": [
    "```{note}\n",
    "`evaluated_operands` represents a map between operands `ufl.Expr` and their\n",
    "evaluations stored in `np.ndarray`-s.\n",
    "```"
   ]
  },
  {
   "cell_type": "markdown",
   "id": "e8f018f3",
   "metadata": {
    "lines_to_next_cell": 0
   },
   "source": [
    "2a. Using the evaluated operands, evaluate the external operators in\n",
    "`F_external_operators` and assemble the result into the `fem.Function` object\n",
    "in `F_replaced`. This calls `q_impl` defined above."
   ]
  },
  {
   "cell_type": "code",
   "execution_count": 191,
   "id": "23899fc6",
   "metadata": {},
   "outputs": [],
   "source": [
    "evaluate_external_operators(F_external_operators, evaluated_operands)"
   ]
  },
  {
   "cell_type": "markdown",
   "id": "dc7a052c",
   "metadata": {
    "lines_to_next_cell": 0
   },
   "source": [
    "2b. Using the evaluated operands, evaluate the external operators in\n",
    "`J_external_operators` and assemble the results into `fem.Function` objects\n",
    "in `J_replaced`. This calls `dqdT_impl` and `dqdsigma_impl` defined above."
   ]
  },
  {
   "cell_type": "code",
   "execution_count": 192,
   "id": "bf908b40",
   "metadata": {},
   "outputs": [],
   "source": [
    "evaluate_external_operators(J_external_operators, evaluated_operands)"
   ]
  },
  {
   "cell_type": "markdown",
   "id": "2a2d579b",
   "metadata": {
    "lines_to_next_cell": 0
   },
   "source": [
    "```{note}\n",
    "Because all external operators share the same operands we can reuse\n",
    "the map `evaluated_operands`. \n",
    "```\n",
    "3. The finite element forms can be assembled using the standard DOLFINx\n",
    "assembly routines."
   ]
  },
  {
   "cell_type": "code",
   "execution_count": 193,
   "id": "e36c03f6",
   "metadata": {},
   "outputs": [],
   "source": [
    "F_compiled = fem.form(F_replaced)\n",
    "J_compiled = fem.form(J_replaced)\n",
    "b_vector = fem.assemble_vector(F_compiled)\n",
    "A_matrix = fem.assemble_matrix(J_compiled)"
   ]
  },
  {
   "cell_type": "markdown",
   "id": "6fdee03f",
   "metadata": {
    "lines_to_next_cell": 0
   },
   "source": [
    "### Comparison with pure UFL\n",
    "This output of the external operator approach can be directly checked against\n",
    "a pure UFL implementation. Firstly the residual"
   ]
  },
  {
   "cell_type": "code",
   "execution_count": 194,
   "id": "7eaa106f",
   "metadata": {},
   "outputs": [],
   "source": [
    "k_explicit = 1.0 / (A + B * T)\n",
    "q_explicit = -k_explicit * sigma\n",
    "F_explicit = inner(q_explicit, grad(T_tilde)) * dx\n",
    "F_explicit_compiled = fem.form(F_explicit)\n",
    "b_explicit_vector = fem.assemble_vector(F_explicit_compiled)\n",
    "assert np.allclose(b_explicit_vector.array, b_vector.array)"
   ]
  },
  {
   "cell_type": "markdown",
   "id": "d981c340",
   "metadata": {
    "lines_to_next_cell": 0
   },
   "source": [
    "and then the Jacobian"
   ]
  },
  {
   "cell_type": "code",
   "execution_count": 195,
   "id": "41c74aa2",
   "metadata": {},
   "outputs": [],
   "source": [
    "J_explicit = ufl.derivative(F_explicit, T, T_hat)\n",
    "J_explicit_compiled = fem.form(J_explicit)\n",
    "A_explicit_matrix = fem.assemble_matrix(J_explicit_compiled)\n",
    "assert np.allclose(A_explicit_matrix.to_dense(), A_matrix.to_dense())"
   ]
  },
  {
   "cell_type": "markdown",
   "id": "32efd14c",
   "metadata": {
    "lines_to_next_cell": 0
   },
   "source": [
    "and a hand-derived Jacobian"
   ]
  },
  {
   "cell_type": "code",
   "execution_count": 196,
   "id": "02badc80",
   "metadata": {},
   "outputs": [],
   "source": [
    "J_manual = (\n",
    "    inner(B * k_explicit**2 * sigma * T_hat, grad(T_tilde)) * dx\n",
    "    + inner(-k_explicit * ufl.Identity(2) * grad(T_hat), grad(T_tilde)) * dx\n",
    ")\n",
    "J_manual_compiled = fem.form(J_manual)\n",
    "A_manual_matrix = fem.assemble_matrix(J_manual_compiled)\n",
    "assert np.allclose(A_manual_matrix.to_dense(), A_matrix.to_dense())"
   ]
  }
 ],
 "metadata": {
  "jupytext": {
   "cell_metadata_filter": "-all",
   "main_language": "python",
   "notebook_metadata_filter": "-all"
  },
  "kernelspec": {
   "display_name": "Python 3",
   "language": "python",
   "name": "python3"
  },
  "language_info": {
   "codemirror_mode": {
    "name": "ipython",
    "version": 3
   },
   "file_extension": ".py",
   "mimetype": "text/x-python",
   "name": "python",
   "nbconvert_exporter": "python",
   "pygments_lexer": "ipython3",
   "version": "3.10.12"
  }
 },
 "nbformat": 4,
 "nbformat_minor": 5
}
