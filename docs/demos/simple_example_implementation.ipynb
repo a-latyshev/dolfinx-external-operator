{
 "cells": [
  {
   "cell_type": "markdown",
   "id": "7c870b86",
   "metadata": {},
   "source": [
    "# Simple example: implementation\n",
    "\n",
    "Authors: Andrey Latyshev (University of Luxembourg, Sorbonne Université, andrey.latyshev@uni.lu)\n",
    "\n",
    "In this notebook, we implement the simple example of the external operator $N\n",
    "= N(u)$ with one operand in the FEniCSx environment. In the following\n",
    "paragraphs, you may find a description of the interface of our framework.\n",
    "Then, in the next cells, you will find the implementation of the example.\n",
    "\n",
    "## Describing the implementation\n",
    "\n",
    "The external operator $N$ is defined through the new UFL-like object\n",
    "`femExternalOperator` developed as a part of this framework. The object\n",
    "combines features of symbolic UFL objects and a globally allocated\n",
    "`fem.Function` coefficient holding a vector with degrees-of-freedom. In other\n",
    "words, we can natively use the `femExternalOperator` object within the\n",
    "symbolic representation of finite element forms, evaluate it in a certain\n",
    "finite element space and store the values. The latter is accessible through\n",
    "the `ref_coefficient` attribute of the `femExternalOperator` object.\n",
    "\n",
    "Once a form containing the external operator is defined it can be\n",
    "successfully differentiated using the UFL function `expand_derivatives`. The\n",
    "latter recursively applies the automatic differentiation (AD) feature of UFL\n",
    "to the form and calculates the Gateau derivative $\\frac{d N}{d u}$ of the\n",
    "external operator according to the chain rule. During this procedure, the\n",
    "algorithm creates a new `femExternalOperator` object representing the\n",
    "derivative $\\frac{d N}{d u}$. It preserves an appropriate local shape of the\n",
    "newly created symbolic object (the `ufl_shape` attribute) and changes the\n",
    "multi-index `derivatives`, one more attribute of `femExternalOperator`. This\n",
    "multi-index helps to define the operand with respect to which the derivative\n",
    "was taken.\n",
    "\n",
    "The behaviour of both external operator $N$ and its derivative $\\frac{d N}{d\n",
    "u}$ is managed by a callable Python function (the `external_function`\n",
    "argument of the `femExternalOperator` constructor). It must be defined by the\n",
    "user and contain subfunctions computing values of the external operator and\n",
    "its derivative respectively. The signature is the same for all subfunctions\n",
    "and consists of `ndarray` (Numpy-like) array representing the\n",
    "degrees-of-freedom of the operand $u$. The framework uses the multi-index\n",
    "`derivatives` of the `femExternalOperator` object to pick up an appropriate\n",
    "subfunction evaluating values of either $N$ or $\\frac{d N}{d u}$.\n",
    "\n",
    "Once both linear and bilinear forms are defined we can apply the framework\n",
    "function `replace_external_operators`. It replaces `femExternalOperator`\n",
    "objects in a form with their finite element representatives, the\n",
    "`ref_coefficient` variable. The new \"replaced\" forms can be easily assembled\n",
    "using the standard functionality of DOLFINx.\n",
    "\n",
    "Throughout a FEM simulation, we often need to re-evaluate operators presented\n",
    "in linear and bilinear forms, e.g. in the Newton method. As operands of\n",
    "external operators may be any UFL expressions, first of all, we must evaluate\n",
    "them in quadratures using the framework function `evaluate_operands`. Only\n",
    "then, using newly calculated values of the operands, we evaluate external\n",
    "operands via the framework function `evaluate_external_operators`. It updates\n",
    "the values of the `ref_coefficient` field of each `femExternalOperator`\n",
    "object.\n",
    "\n",
    "As a result, our framework provides DOLFINx users with a very simple\n",
    "interface allowing to use\n",
    "\n",
    "As a summary, in order to solve a variational problem using external operator the user needs just:\n",
    "1. Choose appropriate operands of the external operator, e.g. the\n",
    "`fem.Function` variable $u$ in our case.\n",
    "2. Define callable Python functions that evaluate the external operator and\n",
    "its derivatives by manipulating the degrees-of-freedom of the operands as\n",
    "`ndarray` data.\n",
    "3. Define external operator through the class `femExternalOperator`.\n",
    "4.\n",
    "\n",
    "For the sake of simplicity, we chose the following definition of the external operator $N$\n",
    "\n",
    "$$\n",
    "    N(u) = u^2,\n",
    "$$\n",
    "\n",
    "which is easily expressible via UFL, in order to show that our framework\n",
    "works correctly on this simple example."
   ]
  },
  {
   "cell_type": "markdown",
   "id": "8af27bd2",
   "metadata": {},
   "source": [
    "## Preamble\n",
    "\n",
    "Here we import the required Python packages, build a simple square mesh and\n",
    "define the finite element functional space $V$, where the main variable $u$,\n",
    "test and trial functions exist."
   ]
  },
  {
   "cell_type": "code",
   "execution_count": 1,
   "id": "b3219deb",
   "metadata": {},
   "outputs": [],
   "source": [
    "from mpi4py import MPI\n",
    "\n",
    "import numpy as np\n",
    "\n",
    "import basix\n",
    "import dolfinx.fem.petsc  # there is an error without it, why?\n",
    "import ufl\n",
    "from dolfinx import fem, mesh\n",
    "from dolfinx_external_operator import (\n",
    "    FEMExternalOperator,\n",
    "    evaluate_external_operators,\n",
    "    evaluate_operands,\n",
    "    replace_external_operators,\n",
    ")\n",
    "\n",
    "nx = 2\n",
    "domain = mesh.create_unit_square(MPI.COMM_WORLD, nx, nx)\n",
    "\n",
    "gdim = domain.geometry.dim\n",
    "V = fem.functionspace(domain, (\"CG\", 1))\n",
    "v = ufl.TestFunction(V)\n",
    "\n",
    "u_hat = ufl.TrialFunction(V)\n",
    "u = fem.Function(V)\n",
    "u.x.array[:] = 2.0  # in order to get non-zero forms after assembling"
   ]
  },
  {
   "cell_type": "markdown",
   "id": "4a94be42",
   "metadata": {},
   "source": [
    "## Defining the external operator"
   ]
  },
  {
   "cell_type": "markdown",
   "id": "0f98da49",
   "metadata": {},
   "source": [
    "According to the current implementation of the framework, the finite element\n",
    "representation of the external operator must be defined in a quadrature\n",
    "finite element space."
   ]
  },
  {
   "cell_type": "code",
   "execution_count": 2,
   "id": "2fe9f3f1",
   "metadata": {},
   "outputs": [],
   "source": [
    "Qe = basix.ufl.quadrature_element(domain.topology.cell_name(), degree=1)\n",
    "Q = dolfinx.fem.functionspace(domain, Qe)\n",
    "dx = ufl.Measure(\"dx\", domain=domain, metadata={\"quadrature_degree\": 1, \"quadrature_scheme\": \"default\"})"
   ]
  },
  {
   "cell_type": "markdown",
   "id": "cb4b76b4",
   "metadata": {},
   "source": [
    "Now we define the behaviour of the external operator $N = N(u)$ and its\n",
    "Gateau derivative $\\frac{dN}{du}(u; \\hat{u})$ in subfunctions `N` and `dNdu`\n",
    "respectively."
   ]
  },
  {
   "cell_type": "code",
   "execution_count": 3,
   "id": "2072af63",
   "metadata": {
    "lines_to_next_cell": 2
   },
   "outputs": [],
   "source": [
    "\n",
    "\n",
    "def N_external(u):\n",
    "    return np.reshape(u**2, -1)\n",
    "\n",
    "\n",
    "def dNdu_external(u):\n",
    "    return np.reshape(2 * u, -1)"
   ]
  },
  {
   "cell_type": "markdown",
   "id": "16a43fde",
   "metadata": {},
   "source": [
    "Then we combine both subfunctions `func_N` and `func_dNdu` in the function\n",
    "`f_external` that distinguishes the external operator and its derivatives\n",
    "using the multi-index `derivatives`, the attribute of every external\n",
    "operator."
   ]
  },
  {
   "cell_type": "code",
   "execution_count": 4,
   "id": "1ab651f5",
   "metadata": {
    "lines_to_next_cell": 2
   },
   "outputs": [],
   "source": [
    "\n",
    "\n",
    "def Ns_external(derivatives):\n",
    "    if derivatives == (0,):\n",
    "        return N_external\n",
    "    elif derivatives == (1,):\n",
    "        return dNdu_external\n",
    "    else:\n",
    "        return NotImplementedError"
   ]
  },
  {
   "cell_type": "markdown",
   "id": "c5fddd8d",
   "metadata": {
    "lines_to_next_cell": 2
   },
   "source": [
    "Now we have all the ingredients to define the external operator $N$."
   ]
  },
  {
   "cell_type": "code",
   "execution_count": 5,
   "id": "bba1b180",
   "metadata": {},
   "outputs": [],
   "source": [
    "N = FEMExternalOperator(u, function_space=Q, external_function=Ns_external)"
   ]
  },
  {
   "cell_type": "markdown",
   "id": "c232de3a",
   "metadata": {},
   "source": [
    "## Defining the linear and bilinear forms"
   ]
  },
  {
   "cell_type": "markdown",
   "id": "2826c3ec",
   "metadata": {},
   "source": [
    "Thanks to the automatic differentiation tool of UFL we do not need to compute\n",
    "manually the derivative of the form $F$ and the operator $N$. We just have to\n",
    "define the linear form and the direction with respect to which the\n",
    "differentiation will be performed."
   ]
  },
  {
   "cell_type": "code",
   "execution_count": 6,
   "id": "27332980",
   "metadata": {},
   "outputs": [],
   "source": [
    "F = N * v * dx\n",
    "J = ufl.derivative(F, u, u_hat)"
   ]
  },
  {
   "cell_type": "markdown",
   "id": "c6a0685e",
   "metadata": {},
   "source": [
    "Our framework recursively looks for `femExternalOperator` objects in the form\n",
    "and replaces them with their representatives, the globally allocated\n",
    "coefficients."
   ]
  },
  {
   "cell_type": "code",
   "execution_count": 7,
   "id": "70e9b4af",
   "metadata": {},
   "outputs": [],
   "source": [
    "F_replaced, F_ex_ops_list = replace_external_operators(F)\n",
    "F_dolfinx = fem.form(F_replaced)"
   ]
  },
  {
   "cell_type": "code",
   "execution_count": 8,
   "id": "52a410eb",
   "metadata": {},
   "outputs": [],
   "source": [
    "J_expanded = ufl.algorithms.expand_derivatives(J)\n",
    "J_replaced, J_ex_ops_list = replace_external_operators(J_expanded)\n",
    "J_dolfinx = fem.form(J_replaced)"
   ]
  },
  {
   "cell_type": "markdown",
   "id": "4a4f756a",
   "metadata": {},
   "source": [
    "```{note}\n",
    "As `femExternalOperator` combines properties of both UFL-like symbolic\n",
    "objects and finite objects `fem.Function`, the user must be aware that once\n",
    "the expansion of the derivatives is performed, the framework creates new\n",
    "functional spaces for shapes of derivatives of external operators and\n",
    "allocates memory for the appropriate coefficients. Thus, `expand_derivatives`\n",
    "may lead to \"hidden\" memory allocations, which may not be exptected by UFL\n",
    "users.\n",
    "```\n",
    "\n",
    "Now the forms `F_replaced` and `J_replaced` do not contain any UFL-like\n",
    "`femExternalOperator` objects. Instead, they consist of `fem.Function`\n",
    "objects defined on the quadrature space `Q`, the `ref_coefficient` attribute\n",
    "of `femExternalOperator`."
   ]
  },
  {
   "cell_type": "markdown",
   "id": "f60d12a2",
   "metadata": {},
   "source": [
    "Then we need to update the operand values of the external operator $N$, i.e.\n",
    "the field $u$. In this case, we just project the values of variable $u$ from\n",
    "the functional space $V$ onto the quadrature space $Q$."
   ]
  },
  {
   "cell_type": "code",
   "execution_count": 9,
   "id": "3c49a03a",
   "metadata": {},
   "outputs": [],
   "source": [
    "evaluated_operands = evaluate_operands(F_ex_ops_list)"
   ]
  },
  {
   "cell_type": "markdown",
   "id": "45b81e57",
   "metadata": {},
   "source": [
    "As the operands of an external operand and its derivatives are the same, we\n",
    "evaluate them only once and send their values to the function\n",
    "`evaluate_external_operators`. The latter evaluates external operators and\n",
    "updates values of the `ref_cofficient` contained in provided lists of\n",
    "`femExternalOperator` of a form and values of evaluated operands stored in\n",
    "numpy-like arrays."
   ]
  },
  {
   "cell_type": "code",
   "execution_count": 10,
   "id": "bbdee7ae",
   "metadata": {},
   "outputs": [],
   "source": [
    "evaluate_external_operators(F_ex_ops_list, evaluated_operands)\n",
    "evaluate_external_operators(J_ex_ops_list, evaluated_operands)"
   ]
  },
  {
   "cell_type": "markdown",
   "id": "9c9aec89",
   "metadata": {},
   "source": [
    "The algorithm exploits the `f_external` to update coefficients representing\n",
    "external operators."
   ]
  },
  {
   "cell_type": "markdown",
   "id": "cb7a8aa0",
   "metadata": {},
   "source": [
    "Concrete values of external operators can be easily accessible through the\n",
    "`ref_coefficient` attribute."
   ]
  },
  {
   "cell_type": "code",
   "execution_count": 13,
   "metadata": {},
   "outputs": [],
   "source": [
    "dNdu = J_ex_ops_list[0]"
   ]
  },
  {
   "cell_type": "code",
   "execution_count": 18,
   "metadata": {},
   "outputs": [
    {
     "data": {
      "text/plain": [
       "281472865715776"
      ]
     },
     "execution_count": 18,
     "metadata": {},
     "output_type": "execute_result"
    }
   ],
   "source": [
    "id(dNdu.ref_function_space)"
   ]
  },
  {
   "cell_type": "code",
   "execution_count": 20,
   "metadata": {},
   "outputs": [
    {
     "data": {
      "text/plain": [
       "281472865715776"
      ]
     },
     "execution_count": 20,
     "metadata": {},
     "output_type": "execute_result"
    }
   ],
   "source": [
    "id(N.ref_function_space)"
   ]
  },
  {
   "cell_type": "code",
   "execution_count": 19,
   "metadata": {},
   "outputs": [
    {
     "data": {
      "text/plain": [
       "281472865715776"
      ]
     },
     "execution_count": 19,
     "metadata": {},
     "output_type": "execute_result"
    }
   ],
   "source": [
    "id(Q)"
   ]
  },
  {
   "cell_type": "code",
   "execution_count": null,
   "metadata": {},
   "outputs": [],
   "source": []
  }
 ],
 "metadata": {
  "jupytext": {
   "cell_metadata_filter": "-all",
   "main_language": "python",
   "notebook_metadata_filter": "-all"
  },
  "kernelspec": {
   "display_name": "Python 3",
   "language": "python",
   "name": "python3"
  },
  "language_info": {
   "codemirror_mode": {
    "name": "ipython",
    "version": 3
   },
   "file_extension": ".py",
   "mimetype": "text/x-python",
   "name": "python",
   "nbconvert_exporter": "python",
   "pygments_lexer": "ipython3",
   "version": "3.10.12"
  }
 },
 "nbformat": 4,
 "nbformat_minor": 5
}
