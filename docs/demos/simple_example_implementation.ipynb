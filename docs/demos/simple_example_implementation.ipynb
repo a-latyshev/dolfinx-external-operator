{
 "cells": [
  {
   "cell_type": "markdown",
   "metadata": {},
   "source": [
    "# Simple example: implementation\n",
    "\n",
    "Authors: Andrey Latyshev (University of Luxembourg, Sorbonne Université, andrey.latyshev@uni.lu)\n",
    "\n",
    "In this notebook, we implement the simple example of the external operator $N = N(u)$ with one operand in the FEniCSx environment. In the following paragraphs, you may find a description of the interface of our framework. Then, in the next cells, you will find the implementation of the example.\n",
    "\n",
    "## Describing the implementation\n",
    "\n",
    "The external operator $N$ is defined through the new UFL-like object `femExternalOperator` developed as a part of this framework. The object combines features of symbolic UFL objects and a globally allocated `fem.Function` coefficient holding a vector with degrees-of-freedom. In other words, we can natively use the `femExternalOperator` object within the symbolic representation of finite element forms, evaluate it in a certain finite element space and store the values. The latter is accessible through the `ref_coefficient` attribute of the `femExternalOperator` object.\n",
    "\n",
    "Once a form containing the external operator is defined it can be successfully differentiated using the UFL function `expand_derivatives`. The latter recursively applies the automatic differentiation (AD) feature of UFL to the form and calculates the Gateau derivative $\\frac{d N}{d u}$ of the external operator according to the chain rule. During this procedure, the algorithm creates a new `femExternalOperator` object representing the derivative $\\frac{d N}{d u}$. It preserves an appropriate local shape of the newly created symbolic object (the `ufl_shape` attribute) and changes the multi-index `derivatives`, one more attribute of `femExternalOperator`. This multi-index helps to define the operand with respect to which the derivative was taken.\n",
    "\n",
    "The behaviour of both external operator $N$ and its derivative $\\frac{d N}{d u}$ is managed by a callable Python function (the `external_function` argument of the `femExternalOperator` constructor). It must be defined by the user and contain subfunctions computing values of the external operator and its derivative respectively. The signature is the same for all subfunctions and consists of `ndarray` (Numpy-like) array representing the degrees-of-freedom of the operand $u$. The framework uses the multi-index `derivatives` of the `femExternalOperator` object to pick up an appropriate subfunction evaluating values of either $N$ or $\\frac{d N}{d u}$.\n",
    "\n",
    "Once both linear and bilinear forms are defined we can apply the framework function `replace_external_operators`. It replaces `femExternalOperator` objects in a form with their finite element representatives, the `ref_coefficient` variable. The new \"replaced\" forms can be easily assembled using the standard functionality of DOLFINx.\n",
    "\n",
    "Throughout a FEM simulation, we often need to re-evaluate operators presented in linear and bilinear forms, e.g. in the Newton method. As operands of external operators may be any UFL expressions, first of all, we must evaluate them in quadratures using the framework function `evaluate_operands`. Only then, using newly calculated values of the operands, we evaluate external operands via the framework function `evaluate_external_operators`. It updates the values of the `ref_coefficient` field of each `femExternalOperator` object.\n",
    "\n",
    "As a result, our framework provides DOLFINx users with a very simple interface allowing to use \n",
    "\n",
    "As a summary, in order to solve a variational problem using external operator the user needs just:\n",
    "1. Choose appropriate operands of the external operator, e.g. the `fem.Function` variable $u$ in our case.\n",
    "2. Define callable Python functions that evaluate the external operator and its derivatives by manipulating the degrees-of-freedom of the operands as `ndarray` data.\n",
    "3. Define external operator through the class `femExternalOperator`.\n",
    "4.\n",
    "\n",
    "For the sake of simplicity, we chose the following definition of the external operator $N$\n",
    "\n",
    "$$\n",
    "    N(u) = u^2,\n",
    "$$\n",
    "\n",
    "which is easily expressible via UFL, in order to show that our framework works correctly on this simple example."
   ]
  },
  {
   "cell_type": "markdown",
   "metadata": {},
   "source": [
    "## Preamble\n",
    "\n",
    "Here we import the required Python packages, build a simple square mesh and define the finite element functional space $V$, where the main variable $u$, test and trial functions exist."
   ]
  },
  {
   "cell_type": "code",
   "execution_count": 1,
   "metadata": {},
   "outputs": [],
   "source": [
    "from mpi4py import MPI\n",
    "from petsc4py import PETSc\n",
    "\n",
    "import basix\n",
    "import ufl\n",
    "from dolfinx import fem, mesh\n",
    "import dolfinx.fem.petsc # there is an error without it, why?\n",
    "\n",
    "import numpy as np\n",
    "\n",
    "import dolfinx_ExternalOperator.external_operator as ex_op_env\n",
    "\n",
    "nx = 2\n",
    "domain = mesh.create_unit_square(MPI.COMM_WORLD, nx, nx)\n",
    "\n",
    "gdim = domain.geometry.dim\n",
    "V = fem.functionspace(domain, (\"CG\", 1, ()))\n",
    "v = ufl.TestFunction(V)\n",
    "u_hat = ufl.TrialFunction(V)\n",
    "u = fem.Function(V)\n",
    "u.x.array[:] = 1. # in order to get non-zero forms after assembling"
   ]
  },
  {
   "cell_type": "markdown",
   "metadata": {},
   "source": [
    "## Defining the external operator"
   ]
  },
  {
   "cell_type": "markdown",
   "metadata": {},
   "source": [
    "According to the current implementation of the framework, the finite element representation of the external operator must be defined in a quadrature finite element space."
   ]
  },
  {
   "cell_type": "code",
   "execution_count": 2,
   "metadata": {},
   "outputs": [],
   "source": [
    "Qe = basix.ufl.quadrature_element(domain.topology.cell_name(), degree=1)\n",
    "Q = dolfinx.fem.functionspace(domain, Qe)\n",
    "dx = ufl.Measure(\"dx\", domain=domain, metadata={\"quadrature_degree\": 1, \"quadrature_scheme\": \"default\"})"
   ]
  },
  {
   "cell_type": "markdown",
   "metadata": {},
   "source": [
    "Now we define the behaviour of the external operator $N = N(u)$ and its Gateau derivative $\\frac{dN}{du}(u; \\hat{u})$ in subfunctions `func_N` and `func_dNdu` respectively."
   ]
  },
  {
   "cell_type": "code",
   "execution_count": 3,
   "metadata": {},
   "outputs": [],
   "source": [
    "def func_N(u):\n",
    "    \"\"\"Defines the output of the external operator `N`.\n",
    "   \n",
    "    Args:\n",
    "        u: A flatten numpy-array containing global values of the variable `u`.\n",
    "   \n",
    "    Returns:\n",
    "        A flatten numpy-array containing global values of the external operator coefficient.\n",
    "    \"\"\"\n",
    "    return np.reshape(u**2, -1)\n",
    "\n",
    "def func_dNdu(u):\n",
    "    \"\"\"Defines the output of the derivative of the external operator `N`.\n",
    "   \n",
    "    Computes the Gateau derivative of the external operator `N` with respect to the operand `u`.\n",
    "\n",
    "    Args:\n",
    "        u: A flatten numpy-array containing global values of the variable `u`.\n",
    "   \n",
    "    Returns:\n",
    "        A flatten numpy-array containing global values of the derivative of the external operator coefficient.\n",
    "    \"\"\"\n",
    "    return np.reshape(2*u, -1)"
   ]
  },
  {
   "cell_type": "markdown",
   "metadata": {},
   "source": [
    "Then we combine both subfunctions `func_N` and `func_dNdu` in the function `f_external` that distinguishes the external operator and its derivatives using the multi-index `derivatives`, the attribute of every external operator."
   ]
  },
  {
   "cell_type": "code",
   "execution_count": 4,
   "metadata": {},
   "outputs": [],
   "source": [
    "def f_external(derivatives):\n",
    "    \"\"\"Defines the behaviour of the external operator and its derivative.\n",
    "    \n",
    "    Args:\n",
    "        derivatives: A tuple of integer positive values, the multi-index of external operator.\n",
    "    \n",
    "    Returns:\n",
    "        A callable function evaluating whether values of external operator or its derivatives.\n",
    "    \"\"\"\n",
    "    if derivatives == (0,):\n",
    "        return func_N\n",
    "    elif derivatives == (1,):\n",
    "        return func_dNdu\n",
    "    else:\n",
    "        return NotImplementedError"
   ]
  },
  {
   "cell_type": "markdown",
   "metadata": {},
   "source": [
    "Now we have all the ingredients to define the external operator $N$."
   ]
  },
  {
   "cell_type": "code",
   "execution_count": 7,
   "metadata": {},
   "outputs": [
    {
     "data": {
      "text/plain": [
       "ufl.differentiation.Grad"
      ]
     },
     "execution_count": 7,
     "metadata": {},
     "output_type": "execute_result"
    }
   ],
   "source": [
    "type(ufl.grad(u_hat))"
   ]
  },
  {
   "cell_type": "code",
   "execution_count": 5,
   "metadata": {},
   "outputs": [],
   "source": [
    "N = ex_op_env.femExternalOperator(u, function_space=Q, external_function=f_external)"
   ]
  },
  {
   "cell_type": "markdown",
   "metadata": {},
   "source": [
    "## Defining the linear and bilinear forms"
   ]
  },
  {
   "cell_type": "markdown",
   "metadata": {},
   "source": [
    "Thanks to the automatic differentiation tool of UFL we do not need to compute manually the derivative of the form $F$ and the operator $N$. We just have to define the linear form and the direction with respect to which the differentiation will be performed."
   ]
  },
  {
   "cell_type": "code",
   "execution_count": 6,
   "metadata": {},
   "outputs": [],
   "source": [
    "F = N*v*dx\n",
    "J = ufl.derivative(F, u, u_hat)"
   ]
  },
  {
   "cell_type": "markdown",
   "metadata": {},
   "source": [
    "Our framework recursively looks for `femExternalOperator` objects in the form and replaces them with their representatives, the globally allocated coefficients."
   ]
  },
  {
   "cell_type": "code",
   "execution_count": 7,
   "metadata": {},
   "outputs": [],
   "source": [
    "F_replaced, F_ex_ops_list = ex_op_env.replace_external_operators(F)\n",
    "F_dolfinx = fem.form(F_replaced)"
   ]
  },
  {
   "cell_type": "code",
   "execution_count": 8,
   "metadata": {},
   "outputs": [],
   "source": [
    "J_expanded = ufl.algorithms.expand_derivatives(J)\n",
    "J_replaced, J_ex_ops_list = ex_op_env.replace_external_operators(J_expanded)\n",
    "J_dolfinx = fem.form(J_replaced)"
   ]
  },
  {
   "cell_type": "markdown",
   "metadata": {},
   "source": [
    "```{note}\n",
    "As `femExternalOperator` combines properties of both UFL-like symbolic objects and finite objects `fem.Function`, the user must be aware that once the expansion of the derivatives is performed, the framework creates new functional spaces for shapes of derivatives of external operators and allocates memory for the appropriate coefficients. Thus, `expand_derivatives` may lead to \"hidden\" memory allocations, which may not be exptected by UFL users.\n",
    "```\n",
    "\n",
    "Now the forms `F_replaced` and `J_replaced` do not contain any UFL-like `femExternalOperator` objects. Instead, they consist of `fem.Function` objects defined on the quadrature space `Q`, the `ref_coefficient` attribute of `femExternalOperator`."
   ]
  },
  {
   "cell_type": "markdown",
   "metadata": {},
   "source": [
    "We ensure that the extracted operator corresponds to the object `N`. "
   ]
  },
  {
   "cell_type": "code",
   "execution_count": 35,
   "metadata": {},
   "outputs": [
    {
     "data": {
      "text/plain": [
       "True"
      ]
     },
     "execution_count": 35,
     "metadata": {},
     "output_type": "execute_result"
    }
   ],
   "source": [
    "N == F_ex_ops_list[0]"
   ]
  },
  {
   "cell_type": "markdown",
   "metadata": {},
   "source": [
    "In this trivial example, the mathematical shape of the derivative $\\frac{d N}{d u}$ remains the same as the one of the scalar $N$. This is not the case for more complex examples. Check out other tutorials from this website!"
   ]
  },
  {
   "cell_type": "code",
   "execution_count": 36,
   "metadata": {},
   "outputs": [
    {
     "name": "stdout",
     "output_type": "stream",
     "text": [
      "Expression of N = e(f; v_0) with shape = ()\n",
      "Expression of dNdu = ∂e(f; v_1, v_0)/∂o1 with shape = ()\n"
     ]
    }
   ],
   "source": [
    "dNdu = J_ex_ops_list[0]\n",
    "print(f\"Expression of N = {N} with shape = {N.ufl_shape}\")\n",
    "print(f\"Expression of dNdu = {dNdu} with shape = {dNdu.ufl_shape}\")"
   ]
  },
  {
   "cell_type": "markdown",
   "metadata": {},
   "source": [
    "Then we need to update the operand values of the external operator $N$, i.e. the field $u$. In this case, we just project the values of variable $u$ from the functional space $V$ onto the quadrature space $Q$."
   ]
  },
  {
   "cell_type": "code",
   "execution_count": 9,
   "metadata": {},
   "outputs": [],
   "source": [
    "evaluated_operands = ex_op_env.evaluate_operands(F_ex_ops_list)"
   ]
  },
  {
   "cell_type": "markdown",
   "metadata": {},
   "source": [
    "As the operands of an external operand and its derivatives are the same, we evaluate them only once and send their values to the function `evaluate_external_operators`. The latter evaluates external operators and updates values of the `ref_cofficient` contained in provided lists of `femExternalOperator` of a form and values of evaluated operands stored in numpy-like arrays."
   ]
  },
  {
   "cell_type": "code",
   "execution_count": 10,
   "metadata": {},
   "outputs": [],
   "source": [
    "ex_op_env.evaluate_external_operators(F_ex_ops_list, evaluated_operands)\n",
    "ex_op_env.evaluate_external_operators(J_ex_ops_list, evaluated_operands)"
   ]
  },
  {
   "cell_type": "markdown",
   "metadata": {},
   "source": [
    "The algorithm exploits the `f_external` to update coefficients representing external operators."
   ]
  },
  {
   "cell_type": "markdown",
   "metadata": {},
   "source": [
    "Concrete values of external operators can be easily accessible through the `ref_coefficient` attribute."
   ]
  },
  {
   "cell_type": "code",
   "execution_count": 11,
   "metadata": {},
   "outputs": [
    {
     "data": {
      "text/plain": [
       "array([1., 1., 1., 1., 1., 1., 1., 1.])"
      ]
     },
     "execution_count": 11,
     "metadata": {},
     "output_type": "execute_result"
    }
   ],
   "source": [
    "N.ref_coefficient.x.array"
   ]
  },
  {
   "cell_type": "code",
   "execution_count": 12,
   "metadata": {},
   "outputs": [
    {
     "data": {
      "text/plain": [
       "array([2., 2., 2., 2., 2., 2., 2., 2.])"
      ]
     },
     "execution_count": 12,
     "metadata": {},
     "output_type": "execute_result"
    }
   ],
   "source": [
    "dNdu.ref_coefficient.x.array"
   ]
  },
  {
   "cell_type": "markdown",
   "metadata": {},
   "source": [
    "## Minimal implementation"
   ]
  },
  {
   "cell_type": "markdown",
   "metadata": {},
   "source": [
    "Omitting additional information and comments, in the following cell, we gathered a minimal implementation of our simple example. We may just conclude that"
   ]
  },
  {
   "cell_type": "code",
   "execution_count": null,
   "metadata": {},
   "outputs": [],
   "source": [
    "from mpi4py import MPI\n",
    "from petsc4py import PETSc\n",
    "\n",
    "import basix\n",
    "import ufl\n",
    "from dolfinx import fem, mesh\n",
    "import dolfinx.fem.petsc # there is an error without it, why?\n",
    "\n",
    "import numpy as np\n",
    "\n",
    "import dolfinx_ExternalOperator.external_operator as ex_op_env\n",
    "\n",
    "nx = 2\n",
    "domain = mesh.create_unit_square(MPI.COMM_WORLD, nx, nx)\n",
    "\n",
    "gdim = domain.geometry.dim\n",
    "V = fem.functionspace(domain, (\"CG\", 1, ()))\n",
    "v = ufl.TestFunction(V)\n",
    "u_hat = ufl.TrialFunction(V)\n",
    "u = fem.Function(V)\n",
    "u.x.array[:] = 1. # in order to get non-zero forms after assembling\n",
    "\n",
    "Qe = basix.ufl.quadrature_element(domain.topology.cell_name(), degree=1)\n",
    "Q = dolfinx.fem.functionspace(domain, Qe)\n",
    "dx = ufl.Measure(\"dx\", domain=domain, metadata={\"quadrature_degree\": 1, \"quadrature_scheme\": \"default\"})\n",
    "\n",
    "def func_N(u):\n",
    "    return np.reshape(u**2, -1)\n",
    "\n",
    "def func_dNdu(u):\n",
    "    return np.reshape(2*u, -1)\n",
    "\n",
    "def f_external(derivatives):\n",
    "    if derivatives == (0,):\n",
    "        return func_N\n",
    "    elif derivatives == (1,):\n",
    "        return func_dNdu\n",
    "    else:\n",
    "        return NotImplementedError\n",
    "\n",
    "N = ex_op_env.femExternalOperator(u, function_space=Q, external_function=f_external)\n",
    "F = N*v*dx\n",
    "J = ufl.derivative(F, u, u_hat)\n",
    "\n",
    "F_replaced, F_ex_ops_list = ex_op_env.replace_external_operators(F)\n",
    "F_dolfinx = fem.form(F_replaced)\n",
    "J_expanded = ufl.algorithms.expand_derivatives(J)\n",
    "J_replaced, J_ex_ops_list = ex_op_env.replace_external_operators(J_expanded)\n",
    "J_dolfinx = fem.form(J_replaced)\n",
    "\n",
    "evaluated_operands = ex_op_env.evaluate_operands(F_ex_ops_list)\n",
    "ex_op_env.evaluate_external_operators(F_ex_ops_list, evaluated_operands)\n",
    "ex_op_env.evaluate_external_operators(J_ex_ops_list, evaluated_operands)"
   ]
  }
 ],
 "metadata": {
  "kernelspec": {
   "display_name": "Python 3",
   "language": "python",
   "name": "python3"
  },
  "language_info": {
   "codemirror_mode": {
    "name": "ipython",
    "version": 3
   },
   "file_extension": ".py",
   "mimetype": "text/x-python",
   "name": "python",
   "nbconvert_exporter": "python",
   "pygments_lexer": "ipython3",
   "version": "3.10.12"
  }
 },
 "nbformat": 4,
 "nbformat_minor": 2
}
