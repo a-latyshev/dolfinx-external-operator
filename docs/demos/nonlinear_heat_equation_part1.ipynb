{
 "cells": [
  {
   "cell_type": "markdown",
   "id": "007b01a0",
   "metadata": {
    "lines_to_next_cell": 0
   },
   "source": [
    "# Nonlinear heat equation (numpy)\n",
    "\n",
    "In this notebook we assemble the Jacobian and residual of a steady-state heat\n",
    "equation with an external operator to used to define a non-linear flux law.\n",
    "\n",
    "To keep the concepts simple we do not solve the non-linear problem, leaving\n",
    "that to a subsequent demo.\n",
    "\n",
    "In this tutorial you will learn how to:\n",
    "\n",
    "- define a UFL form including an `ExternalOperator` which allows the\n",
    "  symbolically representation of an external operator,\n",
    "- define an external definition of the external operator using `numpy`,\n",
    "- and assemble the Jacobian and residual operators for use inside a\n",
    "  linear or non-linear solver.\n",
    "\n",
    "We assume some basic familiarity with finite element methods, non-linear\n",
    "variational problems and FEniCS.\n",
    "\n",
    "## Problem formulation\n",
    "\n",
    "Denoting the temperature field $T$ and its gradient $\\boldsymbol{\\sigma} :=\n",
    "\\nabla T$ we consider the following system on the square domain $\\Omega :=\n",
    "[0, 1]^2$ with boundary $\\partial \\Omega$\n",
    "\n",
    "\\begin{align*}\n",
    "     \\nabla \\cdot \\boldsymbol{q} &= f \\quad \\mathrm{on} \\; \\Omega, \\\\\n",
    "     \\boldsymbol{q}(T, \\boldsymbol{\\sigma}(T)) &= -k(T) \\boldsymbol{\\sigma}, \\\\\n",
    "     T &= 0 \\quad \\mathrm{on} \\; \\partial \\Omega, \\\\\n",
    "\\end{align*}\n",
    "where $f$ is a given function. With flux $\\boldsymbol{q} = -k\n",
    "\\boldsymbol{\\sigma}$ with $k = \\mathrm{const}$ we recover the standard Fourier\n",
    "heat problem. However, here we will assume that the $\\boldsymbol{q}$ is some\n",
    "general function of $T$ and $\\boldsymbol{\\sigma}(T)$ that we would like\n",
    "specify $\\boldsymbol{q}$ using some external (non-UFL) piece of code.\n",
    "\n",
    "Let $V = H^1_0(\\Omega)$ be the usual Sobolev space of square-integrable\n",
    "functions with square-integrable derivatives and vanishing value on the\n",
    "boundary $\\partial \\Omega$. Then in a variational setting the problem can be\n",
    "written in residual form as find $T \\in V$ such that\n",
    "\\begin{equation*}\n",
    "F(T; \\tilde{T}) = \\int \\boldsymbol{q}(T, \\nabla T) \\cdot \\nabla \\tilde{T} - f \\cdot\n",
    "\\tilde{T} \\; \\mathrm{d}x = 0 \\quad \\forall \\tilde{T} \\in V,\n",
    "\\end{equation*}\n",
    "where the semi-colon denotes the split between arguments in which the form is\n",
    "non-linear and linear. To solve the nonlinear system of equation we apply\n",
    "Newton's method which requires the computation of Jacobian, or the Gateaux\n",
    "derivative of $F$.\n",
    "\n",
    "\\begin{equation*}\n",
    "J(T; \\hat{T}, \\tilde{T}) := D_{T} [ F(T; \\tilde{T}) ] \\lbrace \\hat{T} \\rbrace := \\int D_T[\\boldsymbol{q}(T, \\nabla T)] \\lbrace \\hat{T} \\rbrace \\cdot \\nabla \\tilde{T} \\; \\mathrm{d}x\n",
    "\\end{equation*}\n",
    "\n",
    "```{note}\n",
    "The above result uses the product rule $D_{x}(fg)\\lbrace \\hat{x} \\rbrace =\n",
    "(D_x(f)\\lbrace \\hat{x} \\rbrace) g + f(D_x(g)\\lbrace \\hat{x} \\rbrace)$ and\n",
    "that the Gateaux derivative and integral can be exchanged safely.\n",
    "```\n",
    "\n",
    "Dropping the explicit dependence of $\\boldsymbol{q}$ on $T$ and $\\nabla T$\n",
    "for notational convenience we can use the chain rule to write\n",
    "\\begin{align*}\n",
    "D_{T}[\\boldsymbol{q}]\\lbrace \\hat{T} \\rbrace &= D_T [\\boldsymbol{q}]\\lbrace\n",
    "D_T[T]\\lbrace \\hat{T} \\rbrace \\rbrace +\n",
    "D_{\\boldsymbol{\\sigma}}[\\boldsymbol{q}] \\lbrace\n",
    "D_T[\\boldsymbol{\\sigma}]\\lbrace \\hat{T} \\rbrace \\rbrace \\\\\n",
    "&= D_T [\\boldsymbol{q}]\\lbrace \\hat{T} \\rbrace +\n",
    "D_{\\boldsymbol{\\sigma}}[\\boldsymbol{q}] \\lbrace \\nabla \\hat{T} \\rbrace \\\\\n",
    "\\end{align*}\n",
    "\n",
    "To fix ideas, we now assume the following explicit form for the material\n",
    "conductivity\n",
    "\\begin{equation*}\n",
    "k(T) = \\frac{1}{A + BT}\n",
    "\\end{equation*}\n",
    "where $A$ and $B$ are material constants. After some algebra we can derive\n",
    "\\begin{align*}\n",
    "D_T [\\boldsymbol{q}]\\lbrace \\hat{T} \\rbrace &=\n",
    "[Bk^2(T)\\boldsymbol{\\sigma}(T)] \\hat{T} \\\\\n",
    "D_{\\boldsymbol{\\sigma}}[\\boldsymbol{q}] \\lbrace \\nabla \\hat{T} \\rbrace &=\n",
    "[-k(T) \\boldsymbol{I}] \\cdot \\nabla \\hat{T}\n",
    "\\end{align*}\n",
    "We now proceed to the definition of residual and Jacobian of this problem\n",
    "using the `ExternalOperator` approach.\n",
    "```{note}\n",
    "This simple model can also be implemented in pure UFL and the Jacobian\n",
    "derived symbolically using UFL's `derivative` function.\n",
    "```\n",
    "\n",
    "## Implementation\n",
    "### Preamble\n",
    "\n",
    "We import from the required packages, create a mesh, and a scalar valued\n",
    "function space which we will use to discretise the temperature field $T$."
   ]
  },
  {
   "cell_type": "code",
   "execution_count": 1,
   "id": "00081bc7",
   "metadata": {},
   "outputs": [],
   "source": [
    "\n",
    "from mpi4py import MPI\n",
    "from petsc4py import PETSc\n",
    "\n",
    "import numpy as np\n",
    "\n",
    "import basix\n",
    "import ufl\n",
    "import ufl.algorithms\n",
    "from dolfinx import fem, mesh\n",
    "from dolfinx_external_operator import FEMExternalOperator, replace_external_operators\n",
    "from ufl import Measure, TestFunction, TrialFunction, derivative, grad, inner\n",
    "\n",
    "domain = mesh.create_unit_square(MPI.COMM_WORLD, 10, 10)\n",
    "V = fem.functionspace(domain, (\"CG\", 1))"
   ]
  },
  {
   "cell_type": "markdown",
   "id": "67856d04",
   "metadata": {
    "lines_to_next_cell": 0
   },
   "source": [
    "### Defining the external operator\n",
    "We will begin by defining the input *operands* we need to specify the\n",
    "external operator $\\boldsymbol{q}(T, \\boldsymbol{\\sigma}(T))$."
   ]
  },
  {
   "cell_type": "code",
   "execution_count": 2,
   "id": "2d221f2d",
   "metadata": {},
   "outputs": [],
   "source": [
    "T = fem.Function(V)\n",
    "sigma = grad(T)"
   ]
  },
  {
   "cell_type": "markdown",
   "id": "35742582",
   "metadata": {
    "lines_to_next_cell": 0
   },
   "source": [
    "We also need to define a `FunctionSpace` on which the output of the external\n",
    "operator $\\boldsymbol{q}$ should live. For optimal convergence it is\n",
    "necessary that $\\boldsymbol{q}$ is evaluated directly at the Gauss points\n",
    "used in the integration of the weak form. This can be enforced by\n",
    "constructing a quadrature function space and an integration measure `dx`\n",
    "using the same rule."
   ]
  },
  {
   "cell_type": "code",
   "execution_count": 3,
   "id": "e04e71fb",
   "metadata": {},
   "outputs": [],
   "source": [
    "quadrature_degree = 2\n",
    "Qe = basix.ufl.quadrature_element(domain.topology.cell_name(),\n",
    "                                  degree=quadrature_degree, value_shape=(2,))\n",
    "Q = fem.functionspace(domain, Qe)\n",
    "dx = Measure(\"dx\", metadata={\"quadrature_scheme\": \"default\",\n",
    "                             \"quadrature_degree\": quadrature_degree})"
   ]
  },
  {
   "cell_type": "markdown",
   "id": "a6a89dca",
   "metadata": {
    "lines_to_next_cell": 0
   },
   "source": [
    "We now have all of the ingredients to define the external operator."
   ]
  },
  {
   "cell_type": "code",
   "execution_count": 4,
   "id": "2fb2d2f2",
   "metadata": {},
   "outputs": [],
   "source": [
    "q_ = FEMExternalOperator(T, sigma, function_space=Q)"
   ]
  },
  {
   "cell_type": "markdown",
   "id": "10fd4733",
   "metadata": {
    "lines_to_next_cell": 0
   },
   "source": [
    "Note that at this stage `q_` is symbolic and we have not\n",
    "yet defined the `numpy` code to compute it.\n",
    "\n",
    "```{note}\n",
    "FEMExternalOperator holds a `fem.Function` to store its evaluated values.\n",
    "```"
   ]
  },
  {
   "cell_type": "code",
   "execution_count": null,
   "id": "89589a59",
   "metadata": {},
   "outputs": [],
   "source": []
  },
  {
   "cell_type": "markdown",
   "id": "3085fc5b",
   "metadata": {
    "lines_to_next_cell": 0
   },
   "source": [
    "### Residual\n",
    "The external operator can be used in the definition of the residual $F$."
   ]
  },
  {
   "cell_type": "code",
   "execution_count": 5,
   "id": "cdbf3fc4",
   "metadata": {
    "lines_to_next_cell": 1
   },
   "outputs": [],
   "source": [
    "T_tilde = TestFunction(V)\n",
    "F = inner(q_, grad(T_tilde))*dx"
   ]
  },
  {
   "cell_type": "markdown",
   "id": "d7ed4c3e",
   "metadata": {
    "lines_to_next_cell": 0
   },
   "source": [
    "### Implementing the external operator\n",
    "The external operator is implemented using functional programming techniques\n",
    "that closely maps the way that `interpolate` is implemented in DOLFINx.\n",
    "\n",
    "In the first step, the user must define function(s) which accept `np.ndarray`\n",
    "containing the operands (here, $T$ and $\\boldsymbol{\\sigma}$) evaluated at\n",
    "all of the global interpolation points associated with the output function\n",
    "space. These function(s) must return `np.ndarray` objects containing the\n",
    "evaluation of the external operator at all of the global interpolation points.\n",
    "\n",
    "We begin by defining the Python functions for the material conductivity $k$\n",
    "and the flux $q$\n",
    "\\begin{align*}\n",
    "k(T) &= \\frac{1}{A + BT} \\\\\n",
    "\\boldsymbol{q} &= -k(T) \\boldsymbol{\\sigma}\n",
    "\\end{align*}"
   ]
  },
  {
   "cell_type": "code",
   "execution_count": 6,
   "id": "4dc2da21",
   "metadata": {
    "lines_to_next_cell": 1
   },
   "outputs": [],
   "source": [
    "\n",
    "def k(T):\n",
    "    return 1.0 / (A + B * T)\n",
    "\n",
    "\n",
    "def q(T, sigma):\n",
    "    T_ = T.reshape((num_cells, num_gauss_points))\n",
    "    sigma_ = sigma.reshape((num_cells, num_gauss_points, 2))\n",
    "    j_ = np.empty_like(sigma_)\n",
    "    for i in range(0, num_cells):\n",
    "        for j in range(0, num_gauss_points):\n",
    "            j_[i, j] = -K(T_[i, j]) * sigma_[i, j]\n",
    "    return j_.reshape(-1)"
   ]
  },
  {
   "cell_type": "markdown",
   "id": "f81003e8",
   "metadata": {
    "lines_to_next_cell": 0
   },
   "source": [
    "Because we also wish to assemble the Jacobian we will also require\n",
    "implementations of the derivative\n",
    "\\begin{equation*}\n",
    "D_T [\\boldsymbol{q}]\\lbrace \\hat{T} \\rbrace =\n",
    "[Bk(T)k(T)\\boldsymbol{\\sigma}(T)] \\hat{T}\n",
    "\\end{equation*}"
   ]
  },
  {
   "cell_type": "code",
   "execution_count": 7,
   "id": "06392ede",
   "metadata": {
    "lines_to_next_cell": 1
   },
   "outputs": [],
   "source": [
    "\n",
    "def dqdT(T, sigma):\n",
    "    T_ = T.reshape((num_cells, num_gauss_points))\n",
    "    sigma_ = sigma.reshape((num_cells, num_gauss_points, 2))\n",
    "    djdT = np.empty_like(sigma_)\n",
    "\n",
    "    for i in range(0, num_cells):\n",
    "        for j in range(0, num_gauss_points):\n",
    "            djdT[i, j] = B * K(T_[i, j]) ** 2 * sigma_[i, j]\n",
    "    return djdT.reshape(-1)"
   ]
  },
  {
   "cell_type": "markdown",
   "id": "1b4dc309",
   "metadata": {
    "lines_to_next_cell": 0
   },
   "source": [
    "and the derivative\n",
    "\\begin{equation*}\n",
    "D_{\\boldsymbol{\\sigma}}[\\boldsymbol{q}] \\lbrace \\nabla \\hat{T} \\rbrace =\n",
    "[-k(T) \\boldsymbol{I}] \\cdot \\nabla \\hat{T}\n",
    "\\end{equation*}"
   ]
  },
  {
   "cell_type": "code",
   "execution_count": 8,
   "id": "339a650e",
   "metadata": {
    "lines_to_next_cell": 1
   },
   "outputs": [],
   "source": [
    "\n",
    "def dqdsigma(T, sigma):\n",
    "    T_ = T.reshape((num_cells, num_gauss_points))\n",
    "    djdsigma_ = np.empty((num_cells, num_gauss_points, 2, 2), dtype=PETSc.ScalarType)\n",
    "    Id = np.eye(2)\n",
    "\n",
    "    for i in range(0, num_cells):\n",
    "        for j in range(0, num_gauss_points):\n",
    "            djdsigma_[i, j] = -K(T_[i, j]) * Id\n",
    "    return djdsigma_.reshape(-1)"
   ]
  },
  {
   "cell_type": "markdown",
   "id": "29a7ea22",
   "metadata": {
    "lines_to_next_cell": 0
   },
   "source": [
    "Note that we do not need to explicitly incorporate the action of the finite\n",
    "element trial function $\\hat{T}$; it will be handled by DOLFINx during\n",
    "assembly.\n",
    "\n",
    "The final function that the user must define is a higher-order function (a\n",
    "function that returns other functions) that takes in a derivative multi-index\n",
    "as its only argument and returns the appropriate function from the three\n",
    "previous definitions."
   ]
  },
  {
   "cell_type": "code",
   "execution_count": 9,
   "id": "b1d662cf",
   "metadata": {
    "lines_to_next_cell": 1
   },
   "outputs": [],
   "source": [
    "\n",
    "def q(derivatives):\n",
    "    if derivatives == (0, 0):\n",
    "        return q_\n",
    "    elif derivatives == (1, 0):\n",
    "        return dqdT\n",
    "    elif derivatives == (0, 1):\n",
    "        return dqdsigma\n",
    "    else:\n",
    "        return NotImplementedError"
   ]
  },
  {
   "cell_type": "markdown",
   "id": "7ef69818",
   "metadata": {
    "lines_to_next_cell": 0
   },
   "source": [
    "We can now attach the implementation of the external function `q` to our\n",
    "`FEMExternalOperator` symbolic object `q_`."
   ]
  },
  {
   "cell_type": "code",
   "execution_count": 10,
   "id": "56fa1453",
   "metadata": {},
   "outputs": [],
   "source": [
    "q_.external_function = q"
   ]
  },
  {
   "cell_type": "markdown",
   "id": "f881c5c9",
   "metadata": {
    "lines_to_next_cell": 0
   },
   "source": [
    "### Jacobian\n",
    "We can now use UFL's built in `derivative` method to derive the Jacobian\n",
    "automatically."
   ]
  },
  {
   "cell_type": "code",
   "execution_count": 11,
   "id": "0a2e498a",
   "metadata": {},
   "outputs": [],
   "source": [
    "T_hat = TrialFunction(V)\n",
    "J = derivative(F, T, T_hat)"
   ]
  },
  {
   "cell_type": "markdown",
   "id": "0ca71eb7",
   "metadata": {
    "lines_to_next_cell": 0
   },
   "source": [
    "### Transformations\n",
    "To apply the chain rule and obtain something symbolically similar to\n",
    "\\begin{equation*}\n",
    "J(T; \\hat{T}, \\tilde{T}) = D_T [\\boldsymbol{q}]\\lbrace \\hat{T} \\rbrace +\n",
    "D_{\\boldsymbol{\\sigma}}[\\boldsymbol{q}] \\lbrace \\nabla \\hat{T} \\rbrace \\\\\n",
    "\\end{equation*}\n",
    "we apply UFL's derivative expansion algorithm."
   ]
  },
  {
   "cell_type": "code",
   "execution_count": 12,
   "id": "070b448f",
   "metadata": {},
   "outputs": [],
   "source": [
    "J_expanded = ufl.algorithms.expand_derivatives(J)"
   ]
  },
  {
   "cell_type": "markdown",
   "id": "d53bae22",
   "metadata": {
    "lines_to_next_cell": 0
   },
   "source": [
    "In order to assemble `F` and `J` we must apply a further transformation which\n",
    "replaces the UFL external operators in the forms with their associated\n",
    "`fem.Function`."
   ]
  },
  {
   "cell_type": "code",
   "execution_count": 13,
   "id": "0eab9194",
   "metadata": {},
   "outputs": [],
   "source": [
    "F_replaced, F_external_operators = replace_external_operators(F)\n",
    "J_replaced, J_external_operators = replace_external_operators(J_expanded)"
   ]
  }
 ],
 "metadata": {
  "jupytext": {
   "cell_metadata_filter": "-all",
   "main_language": "python",
   "notebook_metadata_filter": "-all"
  },
  "kernelspec": {
   "display_name": "Python 3",
   "language": "python",
   "name": "python3"
  },
  "language_info": {
   "codemirror_mode": {
    "name": "ipython",
    "version": 3
   },
   "file_extension": ".py",
   "mimetype": "text/x-python",
   "name": "python",
   "nbconvert_exporter": "python",
   "pygments_lexer": "ipython3",
   "version": "3.10.12"
  }
 },
 "nbformat": 4,
 "nbformat_minor": 5
}
