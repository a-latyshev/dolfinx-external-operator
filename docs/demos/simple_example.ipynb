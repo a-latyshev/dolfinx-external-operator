{
 "cells": [
  {
   "cell_type": "markdown",
   "metadata": {},
   "source": [
    "# Simple example\n",
    "\n",
    "Authors: Andrey Latyshev (University of Luxembourg, Sorbonne Univeristé, andrey.latyshev@uni.lu)\n",
    "\n",
    "In order to show how an external operator can be used in a variational setting in FEniCSx/DOLFINx, we want to start with a simple example. \n",
    "\n",
    "Let us denote an external operator that is not expressible through UFL by $N = N(u)$, where $u$ is its single operand existing in a functional space $V$. In these terms, we consider the following linear form $F$.\n",
    "\n",
    "$$\n",
    "  F(u;v) = \\int N(u)v dx\n",
    "$$\n",
    "\n",
    "\\begin{align*}\n",
    "  &  \\\\\n",
    "  & J(u;\\tilde{u},v) = F^\\prime(u;\\tilde{u},v) = \\int \\hat{N}(u;\\tilde{u})v dx = 2\\int u \\tilde{u} v dx,\n",
    "\\end{align*}\n",
    "\n",
    "where $\\hat{N}(u;\\tilde{u}) = N^\\prime(u;\\tilde{u}) = 2u\\tilde{u}$.\n",
    "\n",
    "In other words:\n",
    "\\begin{equation*}\n",
    "  J(u;\\tilde{u},v) = F^\\prime(u; \\hat{N}(u;\\tilde{u}),v) = (F^\\prime \\circ \\hat{N})(u;\\tilde{u},v)\n",
    "\\end{equation*}\n",
    "\n",
    "Chain rule:\n",
    "\n",
    "\\begin{align*}\n",
    "  & H(u) = (F \\circ G)(u) = F(G(u)) \\\\\n",
    "  & H^\\prime(u;v) = (F \\circ G)^\\prime(u;v) = F^\\prime(G(u); \\hat{G}(u;v)),\n",
    "\\end{align*}\n",
    "where $\\hat{G}(u;v) = G^\\prime(u;v)$"
   ]
  },
  {
   "cell_type": "markdown",
   "metadata": {},
   "source": [
    "## Preamble\n",
    "\n",
    "Here we import the required Python packages, build a simple square mesh and define the finite element functional space $V$, where the main variable $u$, test and trial functions exist."
   ]
  },
  {
   "cell_type": "code",
   "execution_count": 2,
   "metadata": {},
   "outputs": [],
   "source": [
    "from mpi4py import MPI\n",
    "from petsc4py import PETSc\n",
    "\n",
    "import basix\n",
    "import ufl\n",
    "from dolfinx import fem, mesh, common\n",
    "import dolfinx.fem.petsc # there is an error without it, why?\n",
    "from ufl.algorithms import expand_derivatives\n",
    "\n",
    "import numpy as np\n",
    "\n",
    "import sys\n",
    "sys.path.append(\"../../src/dolfinx_ExternalOperator\")\n",
    "import external_operator as ex_op_env\n",
    "\n",
    "nx = 2\n",
    "domain = mesh.create_unit_square(MPI.COMM_WORLD, nx, nx)\n",
    "\n",
    "gdim = domain.geometry.dim\n",
    "V = fem.functionspace(domain, (\"CG\", 1, ()))\n",
    "v = ufl.TestFunction(V)\n",
    "u_hat = ufl.TrialFunction(V)\n",
    "u = fem.Function(V)"
   ]
  },
  {
   "cell_type": "markdown",
   "metadata": {},
   "source": [
    "## Defining the external operator"
   ]
  },
  {
   "cell_type": "markdown",
   "metadata": {},
   "source": [
    "According to the current implementation of the framework, the finite element representation of the external operator must be defined in a quadrature finite element space."
   ]
  },
  {
   "cell_type": "code",
   "execution_count": 2,
   "metadata": {},
   "outputs": [],
   "source": [
    "Qe = basix.ufl.quadrature_element(domain.topology.cell_name(), degree=1)\n",
    "Q = dolfinx.fem.functionspace(domain, Qe)\n",
    "dx = ufl.Measure(\"dx\", domain=domain, metadata={\"quadrature_degree\": 1, \"quadrature_scheme\": \"default\"})"
   ]
  },
  {
   "cell_type": "markdown",
   "metadata": {},
   "source": [
    "Now we define the behaviour of the external operator $N$ and its Gateau derivative $\\frac{dN}{du}(\\hat{u})$. "
   ]
  },
  {
   "cell_type": "code",
   "execution_count": 3,
   "metadata": {},
   "outputs": [],
   "source": [
    "def func_N(u):\n",
    "    \"\"\"Defines the output of the external operator `N`.\n",
    "   \n",
    "    Args:\n",
    "        u: A numpy-array containing global values of the variable `u`.\n",
    "   \n",
    "    Returns:\n",
    "        A numpy-array containing global values of the external operator coefficient.\n",
    "    \"\"\"\n",
    "    return u**2\n",
    "\n",
    "def func_dNdu(u):\n",
    "    \"\"\"Defines the output of the derivative of the external operator `N`.\n",
    "   \n",
    "    Computes the Gateau derivative of the external operator `N` with respect to the operand `u`. TODO: it os not correctly writen\n",
    "\n",
    "    Args:\n",
    "        u: A numpy-array containing global values of the variable `u`.\n",
    "   \n",
    "    Returns:\n",
    "        A numpy-array containing global values of the derivative of the external operator coefficient.\n",
    "    \"\"\"\n",
    "    return 2*u"
   ]
  },
  {
   "cell_type": "markdown",
   "metadata": {},
   "source": [
    "Then we combine both functions `func_N` and `func_dNdu` in the function `f_external` that distinguish the external operator and its derivatives using the multi-index `derivatives`, the attribute of any external operator."
   ]
  },
  {
   "cell_type": "code",
   "execution_count": 4,
   "metadata": {},
   "outputs": [],
   "source": [
    "def f_external(derivatives):\n",
    "    \"\"\"Defines the behaviour of the external operator and its derivative.\n",
    "    \n",
    "    Args:\n",
    "        derivatives: A tuple of integer positive values, the multi-index of external operator.\n",
    "    \n",
    "    Returns:\n",
    "        A callable function evaluating eighter values of external operator or its derivatives.\n",
    "    \"\"\"\n",
    "    if derivatives == (0,):\n",
    "        return func_N\n",
    "    elif derivatives == (1,):\n",
    "        return func_dNdu\n",
    "    else:\n",
    "        return NotImplementedError"
   ]
  },
  {
   "cell_type": "markdown",
   "metadata": {},
   "source": [
    "Now we have all the ingredients to define the external operator $N$."
   ]
  },
  {
   "cell_type": "code",
   "execution_count": 5,
   "metadata": {},
   "outputs": [],
   "source": [
    "N = ex_op_env.femExternalOperator(u, function_space=Q, external_function=f_external)"
   ]
  },
  {
   "cell_type": "markdown",
   "metadata": {},
   "source": [
    "## Defining the linear and bilinear forms"
   ]
  },
  {
   "cell_type": "code",
   "execution_count": 6,
   "metadata": {},
   "outputs": [],
   "source": [
    "F = N*v*dx\n",
    "J = ufl.derivative(F, u, u_hat)"
   ]
  },
  {
   "cell_type": "code",
   "execution_count": 7,
   "metadata": {},
   "outputs": [],
   "source": [
    "F_replaced, F_ex_ops_list = ex_op_env.replace_external_operators(F)\n",
    "F_dolfinx = fem.form(F_replaced)"
   ]
  },
  {
   "cell_type": "code",
   "execution_count": 8,
   "metadata": {},
   "outputs": [],
   "source": [
    "J_expanded = ufl.algorithms.expand_derivatives(J)\n",
    "J_replaced, J_ex_ops_list = ex_op_env.replace_external_operators(J_expanded)\n",
    "J_dolfinx = fem.form(J_replaced)"
   ]
  }
 ],
 "metadata": {
  "kernelspec": {
   "display_name": "Python 3",
   "language": "python",
   "name": "python3"
  },
  "language_info": {
   "codemirror_mode": {
    "name": "ipython",
    "version": 3
   },
   "file_extension": ".py",
   "mimetype": "text/x-python",
   "name": "python",
   "nbconvert_exporter": "python",
   "pygments_lexer": "ipython3",
   "version": "3.10.12"
  }
 },
 "nbformat": 4,
 "nbformat_minor": 2
}
